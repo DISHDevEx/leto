{
 "cells": [
  {
   "cell_type": "markdown",
   "id": "5e1a06e0-7867-469a-8dae-f09a33a25e02",
   "metadata": {},
   "source": [
    "# Leto Demo Notebook"
   ]
  },
  {
   "cell_type": "markdown",
   "id": "4b62491a-6d1b-471d-9359-ca986767a23d",
   "metadata": {},
   "source": [
    "## Install all requirements"
   ]
  },
  {
   "cell_type": "code",
   "execution_count": 2,
   "id": "6a29ae7b-4c62-437e-9c24-52e2ef240b11",
   "metadata": {
    "tags": []
   },
   "outputs": [
    {
     "name": "stdout",
     "output_type": "stream",
     "text": [
      "/root/Github/aEye/runner_notebooks\n"
     ]
    }
   ],
   "source": [
    "! pwd"
   ]
  },
  {
   "cell_type": "code",
   "execution_count": 3,
   "id": "23afedd5-54ef-41b5-abc1-ea5d032f2be2",
   "metadata": {
    "tags": []
   },
   "outputs": [
    {
     "name": "stdout",
     "output_type": "stream",
     "text": [
      "/root/Github/aEye\n"
     ]
    }
   ],
   "source": [
    "cd .."
   ]
  },
  {
   "cell_type": "code",
   "execution_count": 4,
   "id": "8b7dc2e3-a135-4d28-894e-e4c60e20d175",
   "metadata": {
    "tags": []
   },
   "outputs": [
    {
     "name": "stdout",
     "output_type": "stream",
     "text": [
      "/root/Github/aEye\n"
     ]
    }
   ],
   "source": [
    "! pwd"
   ]
  },
  {
   "cell_type": "code",
   "execution_count": 5,
   "id": "5ede7f32-1820-4001-be52-14643e618f5b",
   "metadata": {
    "tags": []
   },
   "outputs": [
    {
     "name": "stdout",
     "output_type": "stream",
     "text": [
      "Requirement already satisfied: boto3>=1.26.29 in /opt/conda/lib/python3.7/site-packages (from -r requirements.txt (line 1)) (1.26.154)\n",
      "Requirement already satisfied: opencv-python>=4.7.0.00 in /opt/conda/lib/python3.7/site-packages (from -r requirements.txt (line 2)) (4.8.0.74)\n",
      "Requirement already satisfied: numpy>=1.21.6 in /opt/conda/lib/python3.7/site-packages (from -r requirements.txt (line 3)) (1.21.6)\n",
      "Requirement already satisfied: static-ffmpeg>=2.5 in /opt/conda/lib/python3.7/site-packages (from -r requirements.txt (line 4)) (2.5)\n",
      "Requirement already satisfied: botocore<1.30.0,>=1.29.154 in /opt/conda/lib/python3.7/site-packages (from boto3>=1.26.29->-r requirements.txt (line 1)) (1.29.154)\n",
      "Requirement already satisfied: jmespath<2.0.0,>=0.7.1 in /opt/conda/lib/python3.7/site-packages (from boto3>=1.26.29->-r requirements.txt (line 1)) (1.0.1)\n",
      "Requirement already satisfied: s3transfer<0.7.0,>=0.6.0 in /opt/conda/lib/python3.7/site-packages (from boto3>=1.26.29->-r requirements.txt (line 1)) (0.6.1)\n",
      "Requirement already satisfied: requests in /opt/conda/lib/python3.7/site-packages (from static-ffmpeg>=2.5->-r requirements.txt (line 4)) (2.31.0)\n",
      "Requirement already satisfied: filelock in /opt/conda/lib/python3.7/site-packages (from static-ffmpeg>=2.5->-r requirements.txt (line 4)) (3.0.12)\n",
      "Requirement already satisfied: python-dateutil<3.0.0,>=2.1 in /opt/conda/lib/python3.7/site-packages (from botocore<1.30.0,>=1.29.154->boto3>=1.26.29->-r requirements.txt (line 1)) (2.8.2)\n",
      "Requirement already satisfied: urllib3<1.27,>=1.25.4 in /opt/conda/lib/python3.7/site-packages (from botocore<1.30.0,>=1.29.154->boto3>=1.26.29->-r requirements.txt (line 1)) (1.26.16)\n",
      "Requirement already satisfied: charset-normalizer<4,>=2 in /opt/conda/lib/python3.7/site-packages (from requests->static-ffmpeg>=2.5->-r requirements.txt (line 4)) (2.0.4)\n",
      "Requirement already satisfied: idna<4,>=2.5 in /opt/conda/lib/python3.7/site-packages (from requests->static-ffmpeg>=2.5->-r requirements.txt (line 4)) (2.8)\n",
      "Requirement already satisfied: certifi>=2017.4.17 in /opt/conda/lib/python3.7/site-packages (from requests->static-ffmpeg>=2.5->-r requirements.txt (line 4)) (2023.5.7)\n",
      "Requirement already satisfied: six>=1.5 in /opt/conda/lib/python3.7/site-packages (from python-dateutil<3.0.0,>=2.1->botocore<1.30.0,>=1.29.154->boto3>=1.26.29->-r requirements.txt (line 1)) (1.14.0)\n",
      "\u001b[33mWARNING: Running pip as the 'root' user can result in broken permissions and conflicting behaviour with the system package manager. It is recommended to use a virtual environment instead: https://pip.pypa.io/warnings/venv\u001b[0m\u001b[33m\n",
      "\u001b[0m"
     ]
    }
   ],
   "source": [
    "!pip install -r requirements.txt"
   ]
  },
  {
   "cell_type": "code",
   "execution_count": 6,
   "id": "37ee79f4-9738-484a-98e1-5c35227109d7",
   "metadata": {
    "tags": []
   },
   "outputs": [
    {
     "name": "stdout",
     "output_type": "stream",
     "text": [
      "Hit:1 http://deb.debian.org/debian buster InRelease\n",
      "Hit:2 http://deb.debian.org/debian buster-updates InRelease\n",
      "Hit:3 http://security.debian.org/debian-security buster/updates InRelease\n",
      "Reading package lists... Done\n",
      "Reading package lists... Done\n",
      "Building dependency tree       \n",
      "Reading state information... Done\n",
      "libgl1 is already the newest version (1.1.0-1).\n",
      "0 upgraded, 0 newly installed, 0 to remove and 67 not upgraded.\n"
     ]
    }
   ],
   "source": [
    "!apt-get update && apt-get install libgl1 -y"
   ]
  },
  {
   "cell_type": "markdown",
   "id": "ac3375a3-599c-4ef5-9aba-53cf63b00b6f",
   "metadata": {},
   "source": [
    "move to root of repo to run code. "
   ]
  },
  {
   "cell_type": "code",
   "execution_count": 26,
   "id": "816db48a-7631-4aec-864c-7f2f427a7753",
   "metadata": {
    "tags": []
   },
   "outputs": [
    {
     "name": "stdout",
     "output_type": "stream",
     "text": [
      "Collecting opencv-contrib-python\n",
      "  Using cached opencv_contrib_python-4.8.0.74-cp37-abi3-manylinux_2_17_x86_64.manylinux2014_x86_64.whl (67.8 MB)\n",
      "Requirement already satisfied: numpy>=1.17.0 in /opt/conda/lib/python3.7/site-packages (from opencv-contrib-python) (1.21.6)\n",
      "Installing collected packages: opencv-contrib-python\n",
      "Successfully installed opencv-contrib-python-4.8.0.74\n",
      "\u001b[33mWARNING: Running pip as the 'root' user can result in broken permissions and conflicting behaviour with the system package manager. It is recommended to use a virtual environment instead: https://pip.pypa.io/warnings/venv\u001b[0m\u001b[33m\n",
      "\u001b[0m"
     ]
    }
   ],
   "source": [
    "! pip install opencv-contrib-python"
   ]
  },
  {
   "cell_type": "code",
   "execution_count": 27,
   "id": "e7ac7a1f-8f9a-4a52-acec-7fd00abc9eb8",
   "metadata": {
    "tags": []
   },
   "outputs": [
    {
     "name": "stdout",
     "output_type": "stream",
     "text": [
      "Requirement already satisfied: opencv-python in /opt/conda/lib/python3.7/site-packages (4.8.0.74)\n",
      "Requirement already satisfied: numpy>=1.17.0 in /opt/conda/lib/python3.7/site-packages (from opencv-python) (1.21.6)\n",
      "\u001b[33mWARNING: Running pip as the 'root' user can result in broken permissions and conflicting behaviour with the system package manager. It is recommended to use a virtual environment instead: https://pip.pypa.io/warnings/venv\u001b[0m\u001b[33m\n",
      "\u001b[0m"
     ]
    }
   ],
   "source": [
    "! pip install --upgrade opencv-python"
   ]
  },
  {
   "cell_type": "code",
   "execution_count": 7,
   "id": "676f8ad6-09e2-47ad-9d92-3bb31dc52318",
   "metadata": {
    "tags": []
   },
   "outputs": [
    {
     "name": "stdout",
     "output_type": "stream",
     "text": [
      "/root/Github/aEye\n"
     ]
    }
   ],
   "source": [
    "! pwd"
   ]
  },
  {
   "cell_type": "markdown",
   "id": "7f5a6a7f-825b-4cd3-9e75-cff41c2fb09f",
   "metadata": {},
   "source": [
    "## Imports"
   ]
  },
  {
   "cell_type": "code",
   "execution_count": 5,
   "id": "c04d52f4-41e8-480a-8d70-f082070312dd",
   "metadata": {
    "tags": []
   },
   "outputs": [],
   "source": [
    "import boto3\n",
    "import cv2\n",
    "from cv2 import dnn_superres\n",
    "import logging\n",
    "from aEye.video import Video\n",
    "from aEye.processor import Processor\n",
    "from aEye.auxiliary import Aux\n",
    "root = logging.getLogger()\n",
    "root.setLevel(logging.INFO)\n",
    "root.setLevel(logging.DEBUG)\n",
    "root.setLevel(logging.ERROR)"
   ]
  },
  {
   "cell_type": "markdown",
   "id": "9192682c-7654-47cc-9c00-4347a312656c",
   "metadata": {},
   "source": [
    "## Create objects to process original video into the correct sizing"
   ]
  },
  {
   "cell_type": "code",
   "execution_count": 6,
   "id": "1b7de6be-48dc-434a-9275-77b99fe1bc1c",
   "metadata": {
    "tags": []
   },
   "outputs": [],
   "source": [
    "aux = Aux()"
   ]
  },
  {
   "cell_type": "code",
   "execution_count": 7,
   "id": "dfa9962c-7dd4-4e0b-b22a-cc6fe38acea9",
   "metadata": {
    "tags": []
   },
   "outputs": [],
   "source": [
    "process = Processor()"
   ]
  },
  {
   "cell_type": "markdown",
   "id": "bda92a9c-67bd-4bbe-a008-71a081f041bb",
   "metadata": {},
   "source": [
    "# Section 1: Trimming original video to 10 seconds. "
   ]
  },
  {
   "cell_type": "code",
   "execution_count": 8,
   "id": "e48f2769-c927-4381-a1c8-65bb4cca5547",
   "metadata": {
    "tags": []
   },
   "outputs": [],
   "source": [
    "video_list_s3 = aux.load_s3(bucket = 'leto-dish', prefix = 'original-videos/random-videos/')"
   ]
  },
  {
   "cell_type": "code",
   "execution_count": 9,
   "id": "47121715-c1a6-4d36-8c19-d7ae6f6327a0",
   "metadata": {
    "tags": []
   },
   "outputs": [
    {
     "name": "stdout",
     "output_type": "stream",
     "text": [
      "{'index': 0, 'codec_name': 'h264', 'codec_long_name': 'H.264 / AVC / MPEG-4 AVC / MPEG-4 part 10', 'profile': 'High', 'codec_type': 'video', 'codec_tag_string': 'avc1', 'codec_tag': '0x31637661', 'width': 1920, 'height': 1080, 'coded_width': 1920, 'coded_height': 1080, 'closed_captions': 0, 'film_grain': 0, 'has_b_frames': 2, 'pix_fmt': 'yuv420p', 'level': 40, 'color_range': 'tv', 'color_space': 'bt709', 'color_transfer': 'bt709', 'color_primaries': 'bt709', 'chroma_location': 'left', 'field_order': 'progressive', 'refs': 1, 'is_avc': 'true', 'nal_length_size': '4', 'id': '0x1', 'r_frame_rate': '25/1', 'avg_frame_rate': '25/1', 'time_base': '1/12800', 'start_pts': 0, 'start_time': '0.000000', 'duration_ts': 128000, 'duration': '10.000000', 'bit_rate': '79042', 'bits_per_raw_sample': '8', 'nb_frames': '250', 'extradata_size': 50, 'disposition': {'default': 1, 'dub': 0, 'original': 0, 'comment': 0, 'lyrics': 0, 'karaoke': 0, 'forced': 0, 'hearing_impaired': 0, 'visual_impaired': 0, 'clean_effects': 0, 'attached_pic': 0, 'timed_thumbnails': 0, 'captions': 0, 'descriptions': 0, 'metadata': 0, 'dependent': 0, 'still_image': 0}, 'tags': {'language': 'eng', 'handler_name': '\\x1fMainconcept Video Media Handler', 'vendor_id': '[0][0][0][0]'}}\n"
     ]
    }
   ],
   "source": [
    "#print the metadata\n",
    "print(video_list_s3[0].get_meta_data())"
   ]
  },
  {
   "cell_type": "markdown",
   "id": "7e96363b-4d7b-42cb-8e35-4cdd49d7fa09",
   "metadata": {},
   "source": [
    "From the metadata we can see that the original codec is h.264, and the video is 1080p"
   ]
  },
  {
   "cell_type": "markdown",
   "id": "c4c7b371-4ff0-4607-ab28-597fa15d0488",
   "metadata": {},
   "source": [
    "### Turn video into 10 second clip -- only performed once. "
   ]
  },
  {
   "cell_type": "code",
   "execution_count": 10,
   "id": "afe6e214-550d-4d37-bf27-6ac1fe64851f",
   "metadata": {
    "tags": []
   },
   "outputs": [],
   "source": [
    "# trimmed_s3 = process.add_label_trimming_start_duration(video_list_s3,0,10)"
   ]
  },
  {
   "cell_type": "code",
   "execution_count": 11,
   "id": "2bcd8279-024b-4141-b2fe-85978747d5ca",
   "metadata": {
    "tags": []
   },
   "outputs": [],
   "source": [
    "# aux.execute_label_and_write_local(trimmed_s3)"
   ]
  },
  {
   "cell_type": "code",
   "execution_count": 12,
   "id": "81eb5de9-17c9-47a4-96ca-f8b2c793a291",
   "metadata": {
    "tags": []
   },
   "outputs": [],
   "source": [
    "# aux.upload_s3(trimmed_s3, bucket = 'leto-dish', prefix = 'original-videos/random-videos/')"
   ]
  },
  {
   "cell_type": "code",
   "execution_count": 13,
   "id": "ffc0f5f2-d0a0-4128-ae7a-49ceb38fff7c",
   "metadata": {
    "tags": []
   },
   "outputs": [],
   "source": [
    "# aux.clean()"
   ]
  },
  {
   "cell_type": "markdown",
   "id": "0c4d1fdc-0572-4b89-af9c-ec02b8fbf924",
   "metadata": {},
   "source": [
    "# Section 2: Downsampling trimmed video"
   ]
  },
  {
   "cell_type": "code",
   "execution_count": 14,
   "id": "9729d36c-ce4c-44cf-82ec-d8e456df946f",
   "metadata": {
    "tags": []
   },
   "outputs": [],
   "source": [
    "# video_list_s3 = aux.load_s3(bucket = 'leto-dish', prefix = 'original-videos/random-videos/')"
   ]
  },
  {
   "cell_type": "code",
   "execution_count": 15,
   "id": "3112f67b-9afc-4c05-b360-6ad62041adba",
   "metadata": {
    "tags": []
   },
   "outputs": [],
   "source": [
    "# only want the first in the list, the trimmed video\n",
    "# video_list_s3 = video_list_s3[:-1]"
   ]
  },
  {
   "cell_type": "code",
   "execution_count": 16,
   "id": "298ef7bd-d40f-414b-be9b-52e9de50eb70",
   "metadata": {
    "tags": []
   },
   "outputs": [],
   "source": [
    "#print the metadata\n",
    "# print(video_list_s3[0].get_meta_data())"
   ]
  },
  {
   "cell_type": "markdown",
   "id": "d57c39ba-3970-4e32-b87f-24721d7d5285",
   "metadata": {},
   "source": [
    "From the metadata we can see that the original codec is h.264, and the video is 1080p"
   ]
  },
  {
   "cell_type": "markdown",
   "id": "1f0468b2-0915-4af0-a95a-1b82f89ef88e",
   "metadata": {},
   "source": [
    "### Downsample the videos"
   ]
  },
  {
   "cell_type": "code",
   "execution_count": 17,
   "id": "28ce4e79-3dde-4a13-8e9c-d5f04e22f47d",
   "metadata": {
    "tags": []
   },
   "outputs": [],
   "source": [
    "downsampled_video = process.add_label_change_resolution(video_list_s3,\"240p\")"
   ]
  },
  {
   "cell_type": "code",
   "execution_count": 18,
   "id": "a2c1c0f1-d9c9-4881-a224-c82aebe20733",
   "metadata": {
    "tags": []
   },
   "outputs": [],
   "source": [
    "aux.execute_label_and_write_local(downsampled_video, \"modified\")"
   ]
  },
  {
   "cell_type": "code",
   "execution_count": 19,
   "id": "0a5a6ef5-9d1e-494f-97cd-6d571877adcd",
   "metadata": {
    "tags": []
   },
   "outputs": [],
   "source": [
    "aux.upload_s3(downsampled_video, bucket = 'leto-dish', prefix = 'reduced-videos/ffmpeg-480p/')"
   ]
  },
  {
   "cell_type": "code",
   "execution_count": 20,
   "id": "577cd815-8801-4933-b033-8f0726d269bf",
   "metadata": {
    "tags": []
   },
   "outputs": [
    {
     "data": {
      "text/plain": [
       "'-vf scale=426x240:flags=lanczos -c:v libx264 -preset slow -crf 21'"
      ]
     },
     "execution_count": 20,
     "metadata": {},
     "output_type": "execute_result"
    }
   ],
   "source": [
    "downsampled_video[0].get_label()"
   ]
  },
  {
   "cell_type": "markdown",
   "id": "b96a442b-d1e2-48ee-a75e-f8691b37af75",
   "metadata": {},
   "source": [
    "# Section 2: Upsampling trimmed video"
   ]
  },
  {
   "cell_type": "code",
   "execution_count": 21,
   "id": "a85379da-b752-445e-a649-dd67ff953004",
   "metadata": {
    "tags": []
   },
   "outputs": [
    {
     "name": "stdout",
     "output_type": "stream",
     "text": [
      "{'index': 0, 'codec_name': 'h264', 'codec_long_name': 'H.264 / AVC / MPEG-4 AVC / MPEG-4 part 10', 'profile': 'High', 'codec_type': 'video', 'codec_tag_string': 'avc1', 'codec_tag': '0x31637661', 'width': 426, 'height': 240, 'coded_width': 426, 'coded_height': 240, 'closed_captions': 0, 'film_grain': 0, 'has_b_frames': 2, 'pix_fmt': 'yuv420p', 'level': 21, 'color_range': 'tv', 'color_space': 'bt709', 'color_transfer': 'bt709', 'color_primaries': 'bt709', 'chroma_location': 'left', 'field_order': 'progressive', 'refs': 1, 'is_avc': 'true', 'nal_length_size': '4', 'id': '0x1', 'r_frame_rate': '25/1', 'avg_frame_rate': '25/1', 'time_base': '1/12800', 'start_pts': 0, 'start_time': '0.000000', 'duration_ts': 128000, 'duration': '10.000000', 'bit_rate': '23068', 'bits_per_raw_sample': '8', 'nb_frames': '250', 'extradata_size': 48, 'disposition': {'default': 1, 'dub': 0, 'original': 0, 'comment': 0, 'lyrics': 0, 'karaoke': 0, 'forced': 0, 'hearing_impaired': 0, 'visual_impaired': 0, 'clean_effects': 0, 'attached_pic': 0, 'timed_thumbnails': 0, 'captions': 0, 'descriptions': 0, 'metadata': 0, 'dependent': 0, 'still_image': 0}, 'tags': {'language': 'eng', 'handler_name': '\\x1fMainconcept Video Media Handler', 'vendor_id': '[0][0][0][0]'}}\n"
     ]
    }
   ],
   "source": [
    "video_list_s3 = aux.load_s3(bucket = 'leto-dish', prefix = 'reduced-videos/ffmpeg-480p/')\n",
    "#print the metadata\n",
    "print(video_list_s3[0].get_meta_data())"
   ]
  },
  {
   "cell_type": "code",
   "execution_count": 22,
   "id": "efd0cec1-c25f-4ef2-8cc6-01c3760001ff",
   "metadata": {
    "tags": []
   },
   "outputs": [
    {
     "data": {
      "text/plain": [
       "aEye.video.Video"
      ]
     },
     "execution_count": 22,
     "metadata": {},
     "output_type": "execute_result"
    }
   ],
   "source": [
    "type(video_list_s3[0])"
   ]
  },
  {
   "cell_type": "markdown",
   "id": "58fd5d3c-5224-44f3-9fcc-752e6a28247d",
   "metadata": {},
   "source": [
    "Reading video from S3 using openCV"
   ]
  },
  {
   "cell_type": "code",
   "execution_count": 23,
   "id": "f4c6df1b-5bcc-49b6-b295-82e340d78e3e",
   "metadata": {
    "tags": []
   },
   "outputs": [],
   "source": [
    "s3_client = boto3.client('s3')\n",
    "bucket = 'leto-dish'\n",
    "key = 'reduced-videos/ffmpeg-480p/resized_demo_10_second_clip.mp4'\n",
    "url = s3_client.generate_presigned_url( ClientMethod='get_object', Params={ 'Bucket': bucket, 'Key': key } )\n",
    "video = cv2.VideoCapture(url)"
   ]
  },
  {
   "cell_type": "markdown",
   "id": "1b523363-ce4e-4f05-94fa-209be652872a",
   "metadata": {
    "tags": []
   },
   "source": [
    "Writing video to S3 using openCV"
   ]
  },
  {
   "cell_type": "code",
   "execution_count": 24,
   "id": "fa1ccf92-78e7-4b4e-8bc3-06fdc364043d",
   "metadata": {
    "tags": []
   },
   "outputs": [],
   "source": [
    "output_key = 'reconstructed-videos/upsampled_demo.mp4'\n",
    "output_url = s3_client.generate_presigned_url( ClientMethod='get_object', Params={ 'Bucket': bucket, 'Key': output_key } )"
   ]
  },
  {
   "cell_type": "code",
   "execution_count": null,
   "id": "5e747d29-f1c0-406a-b0a0-f368fd84a011",
   "metadata": {
    "tags": []
   },
   "outputs": [],
   "source": [
    "sr = dnn_superres.DnnSuperResImpl_create()\n",
    "output_file = 'clip0_comp_decomp.mp4'\n",
    "\n",
    "# Create a VideoWriter object to save the output video\n",
    "fourcc = cv2.VideoWriter_fourcc(*\"h264\")\n",
    "out = cv2.VideoWriter(output_file, fourcc, 25.0, (1920, 1080))\n",
    "dim = (1920, 1080) \n",
    "path = \"./runner_notebooks/EDSR_x4.pb\"\n",
    " \n",
    "sr.readModel(path)\n",
    " \n",
    "sr.setModel(\"edsr\",4)\n",
    "\n",
    "count = 0\n",
    "\n",
    "while video.isOpened():\n",
    "    ret, frame = video.read()\n",
    "    if not ret:\n",
    "        break\n",
    "\n",
    "    result = sr.upsample(frame)\n",
    "\n",
    "    # Resized image\n",
    "    resized = cv2.resize(result,dim)\n",
    "\n",
    "    # Saving the frames with certain names\n",
    "    cv2.imwrite('./images/%04d.jpg' % count, resized)\n",
    "    \n",
    "    # Write the resized frame to the output video file\n",
    "    out.write(resized)\n",
    "    \n",
    "    # Closing the video by Escape button\n",
    "    if cv2.waitKey(10) == 27:\n",
    "        break\n",
    "  \n",
    "    # Incrementing the variable value by 1\n",
    "    count += 1\n",
    "\n",
    "# Release the video capture and writer objects\n",
    "video.release()\n",
    "out.release()\n",
    "\n",
    "# Close all OpenCV windows\n",
    "cv2.destroyAllWindows()"
   ]
  },
  {
   "cell_type": "code",
   "execution_count": null,
   "id": "34276e09-2e49-4352-992f-ed99ddc0c67a",
   "metadata": {},
   "outputs": [],
   "source": []
  }
 ],
 "metadata": {
  "availableInstances": [
   {
    "_defaultOrder": 0,
    "_isFastLaunch": true,
    "category": "General purpose",
    "gpuNum": 0,
    "memoryGiB": 4,
    "name": "ml.t3.medium",
    "vcpuNum": 2
   },
   {
    "_defaultOrder": 1,
    "_isFastLaunch": false,
    "category": "General purpose",
    "gpuNum": 0,
    "memoryGiB": 8,
    "name": "ml.t3.large",
    "vcpuNum": 2
   },
   {
    "_defaultOrder": 2,
    "_isFastLaunch": false,
    "category": "General purpose",
    "gpuNum": 0,
    "memoryGiB": 16,
    "name": "ml.t3.xlarge",
    "vcpuNum": 4
   },
   {
    "_defaultOrder": 3,
    "_isFastLaunch": false,
    "category": "General purpose",
    "gpuNum": 0,
    "memoryGiB": 32,
    "name": "ml.t3.2xlarge",
    "vcpuNum": 8
   },
   {
    "_defaultOrder": 4,
    "_isFastLaunch": true,
    "category": "General purpose",
    "gpuNum": 0,
    "memoryGiB": 8,
    "name": "ml.m5.large",
    "vcpuNum": 2
   },
   {
    "_defaultOrder": 5,
    "_isFastLaunch": false,
    "category": "General purpose",
    "gpuNum": 0,
    "memoryGiB": 16,
    "name": "ml.m5.xlarge",
    "vcpuNum": 4
   },
   {
    "_defaultOrder": 6,
    "_isFastLaunch": false,
    "category": "General purpose",
    "gpuNum": 0,
    "memoryGiB": 32,
    "name": "ml.m5.2xlarge",
    "vcpuNum": 8
   },
   {
    "_defaultOrder": 7,
    "_isFastLaunch": false,
    "category": "General purpose",
    "gpuNum": 0,
    "memoryGiB": 64,
    "name": "ml.m5.4xlarge",
    "vcpuNum": 16
   },
   {
    "_defaultOrder": 8,
    "_isFastLaunch": false,
    "category": "General purpose",
    "gpuNum": 0,
    "memoryGiB": 128,
    "name": "ml.m5.8xlarge",
    "vcpuNum": 32
   },
   {
    "_defaultOrder": 9,
    "_isFastLaunch": false,
    "category": "General purpose",
    "gpuNum": 0,
    "memoryGiB": 192,
    "name": "ml.m5.12xlarge",
    "vcpuNum": 48
   },
   {
    "_defaultOrder": 10,
    "_isFastLaunch": false,
    "category": "General purpose",
    "gpuNum": 0,
    "memoryGiB": 256,
    "name": "ml.m5.16xlarge",
    "vcpuNum": 64
   },
   {
    "_defaultOrder": 11,
    "_isFastLaunch": false,
    "category": "General purpose",
    "gpuNum": 0,
    "memoryGiB": 384,
    "name": "ml.m5.24xlarge",
    "vcpuNum": 96
   },
   {
    "_defaultOrder": 12,
    "_isFastLaunch": false,
    "category": "General purpose",
    "gpuNum": 0,
    "memoryGiB": 8,
    "name": "ml.m5d.large",
    "vcpuNum": 2
   },
   {
    "_defaultOrder": 13,
    "_isFastLaunch": false,
    "category": "General purpose",
    "gpuNum": 0,
    "memoryGiB": 16,
    "name": "ml.m5d.xlarge",
    "vcpuNum": 4
   },
   {
    "_defaultOrder": 14,
    "_isFastLaunch": false,
    "category": "General purpose",
    "gpuNum": 0,
    "memoryGiB": 32,
    "name": "ml.m5d.2xlarge",
    "vcpuNum": 8
   },
   {
    "_defaultOrder": 15,
    "_isFastLaunch": false,
    "category": "General purpose",
    "gpuNum": 0,
    "memoryGiB": 64,
    "name": "ml.m5d.4xlarge",
    "vcpuNum": 16
   },
   {
    "_defaultOrder": 16,
    "_isFastLaunch": false,
    "category": "General purpose",
    "gpuNum": 0,
    "memoryGiB": 128,
    "name": "ml.m5d.8xlarge",
    "vcpuNum": 32
   },
   {
    "_defaultOrder": 17,
    "_isFastLaunch": false,
    "category": "General purpose",
    "gpuNum": 0,
    "memoryGiB": 192,
    "name": "ml.m5d.12xlarge",
    "vcpuNum": 48
   },
   {
    "_defaultOrder": 18,
    "_isFastLaunch": false,
    "category": "General purpose",
    "gpuNum": 0,
    "memoryGiB": 256,
    "name": "ml.m5d.16xlarge",
    "vcpuNum": 64
   },
   {
    "_defaultOrder": 19,
    "_isFastLaunch": false,
    "category": "General purpose",
    "gpuNum": 0,
    "memoryGiB": 384,
    "name": "ml.m5d.24xlarge",
    "vcpuNum": 96
   },
   {
    "_defaultOrder": 20,
    "_isFastLaunch": true,
    "category": "Compute optimized",
    "gpuNum": 0,
    "memoryGiB": 4,
    "name": "ml.c5.large",
    "vcpuNum": 2
   },
   {
    "_defaultOrder": 21,
    "_isFastLaunch": false,
    "category": "Compute optimized",
    "gpuNum": 0,
    "memoryGiB": 8,
    "name": "ml.c5.xlarge",
    "vcpuNum": 4
   },
   {
    "_defaultOrder": 22,
    "_isFastLaunch": false,
    "category": "Compute optimized",
    "gpuNum": 0,
    "memoryGiB": 16,
    "name": "ml.c5.2xlarge",
    "vcpuNum": 8
   },
   {
    "_defaultOrder": 23,
    "_isFastLaunch": false,
    "category": "Compute optimized",
    "gpuNum": 0,
    "memoryGiB": 32,
    "name": "ml.c5.4xlarge",
    "vcpuNum": 16
   },
   {
    "_defaultOrder": 24,
    "_isFastLaunch": false,
    "category": "Compute optimized",
    "gpuNum": 0,
    "memoryGiB": 72,
    "name": "ml.c5.9xlarge",
    "vcpuNum": 36
   },
   {
    "_defaultOrder": 25,
    "_isFastLaunch": false,
    "category": "Compute optimized",
    "gpuNum": 0,
    "memoryGiB": 96,
    "name": "ml.c5.12xlarge",
    "vcpuNum": 48
   },
   {
    "_defaultOrder": 26,
    "_isFastLaunch": false,
    "category": "Compute optimized",
    "gpuNum": 0,
    "memoryGiB": 144,
    "name": "ml.c5.18xlarge",
    "vcpuNum": 72
   },
   {
    "_defaultOrder": 27,
    "_isFastLaunch": false,
    "category": "Compute optimized",
    "gpuNum": 0,
    "memoryGiB": 192,
    "name": "ml.c5.24xlarge",
    "vcpuNum": 96
   },
   {
    "_defaultOrder": 28,
    "_isFastLaunch": true,
    "category": "Accelerated computing",
    "gpuNum": 1,
    "memoryGiB": 16,
    "name": "ml.g4dn.xlarge",
    "vcpuNum": 4
   },
   {
    "_defaultOrder": 29,
    "_isFastLaunch": false,
    "category": "Accelerated computing",
    "gpuNum": 1,
    "memoryGiB": 32,
    "name": "ml.g4dn.2xlarge",
    "vcpuNum": 8
   },
   {
    "_defaultOrder": 30,
    "_isFastLaunch": false,
    "category": "Accelerated computing",
    "gpuNum": 1,
    "memoryGiB": 64,
    "name": "ml.g4dn.4xlarge",
    "vcpuNum": 16
   },
   {
    "_defaultOrder": 31,
    "_isFastLaunch": false,
    "category": "Accelerated computing",
    "gpuNum": 1,
    "memoryGiB": 128,
    "name": "ml.g4dn.8xlarge",
    "vcpuNum": 32
   },
   {
    "_defaultOrder": 32,
    "_isFastLaunch": false,
    "category": "Accelerated computing",
    "gpuNum": 4,
    "memoryGiB": 192,
    "name": "ml.g4dn.12xlarge",
    "vcpuNum": 48
   },
   {
    "_defaultOrder": 33,
    "_isFastLaunch": false,
    "category": "Accelerated computing",
    "gpuNum": 1,
    "memoryGiB": 256,
    "name": "ml.g4dn.16xlarge",
    "vcpuNum": 64
   },
   {
    "_defaultOrder": 34,
    "_isFastLaunch": false,
    "category": "Accelerated computing",
    "gpuNum": 1,
    "memoryGiB": 61,
    "name": "ml.p3.2xlarge",
    "vcpuNum": 8
   },
   {
    "_defaultOrder": 35,
    "_isFastLaunch": false,
    "category": "Accelerated computing",
    "gpuNum": 4,
    "memoryGiB": 244,
    "name": "ml.p3.8xlarge",
    "vcpuNum": 32
   },
   {
    "_defaultOrder": 36,
    "_isFastLaunch": false,
    "category": "Accelerated computing",
    "gpuNum": 8,
    "memoryGiB": 488,
    "name": "ml.p3.16xlarge",
    "vcpuNum": 64
   },
   {
    "_defaultOrder": 37,
    "_isFastLaunch": false,
    "category": "Accelerated computing",
    "gpuNum": 8,
    "memoryGiB": 768,
    "name": "ml.p3dn.24xlarge",
    "vcpuNum": 96
   },
   {
    "_defaultOrder": 38,
    "_isFastLaunch": false,
    "category": "Memory Optimized",
    "gpuNum": 0,
    "memoryGiB": 16,
    "name": "ml.r5.large",
    "vcpuNum": 2
   },
   {
    "_defaultOrder": 39,
    "_isFastLaunch": false,
    "category": "Memory Optimized",
    "gpuNum": 0,
    "memoryGiB": 32,
    "name": "ml.r5.xlarge",
    "vcpuNum": 4
   },
   {
    "_defaultOrder": 40,
    "_isFastLaunch": false,
    "category": "Memory Optimized",
    "gpuNum": 0,
    "memoryGiB": 64,
    "name": "ml.r5.2xlarge",
    "vcpuNum": 8
   },
   {
    "_defaultOrder": 41,
    "_isFastLaunch": false,
    "category": "Memory Optimized",
    "gpuNum": 0,
    "memoryGiB": 128,
    "name": "ml.r5.4xlarge",
    "vcpuNum": 16
   },
   {
    "_defaultOrder": 42,
    "_isFastLaunch": false,
    "category": "Memory Optimized",
    "gpuNum": 0,
    "memoryGiB": 256,
    "name": "ml.r5.8xlarge",
    "vcpuNum": 32
   },
   {
    "_defaultOrder": 43,
    "_isFastLaunch": false,
    "category": "Memory Optimized",
    "gpuNum": 0,
    "memoryGiB": 384,
    "name": "ml.r5.12xlarge",
    "vcpuNum": 48
   },
   {
    "_defaultOrder": 44,
    "_isFastLaunch": false,
    "category": "Memory Optimized",
    "gpuNum": 0,
    "memoryGiB": 512,
    "name": "ml.r5.16xlarge",
    "vcpuNum": 64
   },
   {
    "_defaultOrder": 45,
    "_isFastLaunch": false,
    "category": "Memory Optimized",
    "gpuNum": 0,
    "memoryGiB": 768,
    "name": "ml.r5.24xlarge",
    "vcpuNum": 96
   },
   {
    "_defaultOrder": 46,
    "_isFastLaunch": false,
    "category": "Accelerated computing",
    "gpuNum": 1,
    "memoryGiB": 16,
    "name": "ml.g5.xlarge",
    "vcpuNum": 4
   },
   {
    "_defaultOrder": 47,
    "_isFastLaunch": false,
    "category": "Accelerated computing",
    "gpuNum": 1,
    "memoryGiB": 32,
    "name": "ml.g5.2xlarge",
    "vcpuNum": 8
   },
   {
    "_defaultOrder": 48,
    "_isFastLaunch": false,
    "category": "Accelerated computing",
    "gpuNum": 1,
    "memoryGiB": 64,
    "name": "ml.g5.4xlarge",
    "vcpuNum": 16
   },
   {
    "_defaultOrder": 49,
    "_isFastLaunch": false,
    "category": "Accelerated computing",
    "gpuNum": 1,
    "memoryGiB": 128,
    "name": "ml.g5.8xlarge",
    "vcpuNum": 32
   },
   {
    "_defaultOrder": 50,
    "_isFastLaunch": false,
    "category": "Accelerated computing",
    "gpuNum": 1,
    "memoryGiB": 256,
    "name": "ml.g5.16xlarge",
    "vcpuNum": 64
   },
   {
    "_defaultOrder": 51,
    "_isFastLaunch": false,
    "category": "Accelerated computing",
    "gpuNum": 4,
    "memoryGiB": 192,
    "name": "ml.g5.12xlarge",
    "vcpuNum": 48
   },
   {
    "_defaultOrder": 52,
    "_isFastLaunch": false,
    "category": "Accelerated computing",
    "gpuNum": 4,
    "memoryGiB": 384,
    "name": "ml.g5.24xlarge",
    "vcpuNum": 96
   },
   {
    "_defaultOrder": 53,
    "_isFastLaunch": false,
    "category": "Accelerated computing",
    "gpuNum": 8,
    "memoryGiB": 768,
    "name": "ml.g5.48xlarge",
    "vcpuNum": 192
   }
  ],
  "instance_type": "ml.t3.medium",
  "kernelspec": {
   "display_name": "Python 3 (Data Science)",
   "language": "python",
   "name": "python3__SAGEMAKER_INTERNAL__arn:aws:sagemaker:us-west-2:236514542706:image/datascience-1.0"
  },
  "language_info": {
   "codemirror_mode": {
    "name": "ipython",
    "version": 3
   },
   "file_extension": ".py",
   "mimetype": "text/x-python",
   "name": "python",
   "nbconvert_exporter": "python",
   "pygments_lexer": "ipython3",
   "version": "3.7.10"
  }
 },
 "nbformat": 4,
 "nbformat_minor": 5
}
