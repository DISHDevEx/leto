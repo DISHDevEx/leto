{
 "cells": [
  {
   "cell_type": "markdown",
   "metadata": {},
   "source": [
    "# Import 'mergetablestodf' function for merging tables"
   ]
  },
  {
   "cell_type": "code",
   "execution_count": 49,
   "metadata": {
    "tags": []
   },
   "outputs": [],
   "source": [
    "import pandas as pd"
   ]
  },
  {
   "cell_type": "code",
   "execution_count": 2,
   "metadata": {
    "tags": []
   },
   "outputs": [],
   "source": [
    "from table_merge import mergetablestodf"
   ]
  },
  {
   "cell_type": "markdown",
   "metadata": {},
   "source": [
    "# Merging data from dynamoDB tables to a dataframe"
   ]
  },
  {
   "cell_type": "code",
   "execution_count": 3,
   "metadata": {
    "collapsed": false,
    "jupyter": {
     "outputs_hidden": false
    },
    "pycharm": {
     "name": "#%%\n"
    },
    "tags": []
   },
   "outputs": [],
   "source": [
    "df = mergetablestodf()"
   ]
  },
  {
   "cell_type": "markdown",
   "metadata": {},
   "source": [
    "# Dataframe for analysis"
   ]
  },
  {
   "cell_type": "code",
   "execution_count": 5,
   "metadata": {
    "collapsed": false,
    "jupyter": {
     "outputs_hidden": false
    },
    "pycharm": {
     "name": "#%%\n"
    },
    "tags": []
   },
   "outputs": [
    {
     "data": {
      "text/html": [
       "<div>\n",
       "<style scoped>\n",
       "    .dataframe tbody tr th:only-of-type {\n",
       "        vertical-align: middle;\n",
       "    }\n",
       "\n",
       "    .dataframe tbody tr th {\n",
       "        vertical-align: top;\n",
       "    }\n",
       "\n",
       "    .dataframe thead th {\n",
       "        text-align: right;\n",
       "    }\n",
       "</style>\n",
       "<table border=\"1\" class=\"dataframe\">\n",
       "  <thead>\n",
       "    <tr style=\"text-align: right;\">\n",
       "      <th></th>\n",
       "      <th>original_file_size</th>\n",
       "      <th>video_location</th>\n",
       "      <th>reduced_file_size</th>\n",
       "      <th>reduced_method</th>\n",
       "      <th>reconstructed_method</th>\n",
       "      <th>reconstructed_file_size</th>\n",
       "      <th>yolo_score</th>\n",
       "      <th>mp_score</th>\n",
       "    </tr>\n",
       "  </thead>\n",
       "  <tbody>\n",
       "    <tr>\n",
       "      <th>0</th>\n",
       "      <td>2091398</td>\n",
       "      <td>original-videos/collision04.mp4</td>\n",
       "      <td>NaN</td>\n",
       "      <td>NaN</td>\n",
       "      <td>NaN</td>\n",
       "      <td>NaN</td>\n",
       "      <td>0.5480615942028965</td>\n",
       "      <td>0.18318012422360253</td>\n",
       "    </tr>\n",
       "    <tr>\n",
       "      <th>1</th>\n",
       "      <td>2767585</td>\n",
       "      <td>original-videos/collision06.mp4</td>\n",
       "      <td>NaN</td>\n",
       "      <td>NaN</td>\n",
       "      <td>NaN</td>\n",
       "      <td>NaN</td>\n",
       "      <td>0.40738981173864913</td>\n",
       "      <td>0.19572093023255818</td>\n",
       "    </tr>\n",
       "    <tr>\n",
       "      <th>2</th>\n",
       "      <td>18178091</td>\n",
       "      <td>original-videos/licenseplate04.mp4</td>\n",
       "      <td>NaN</td>\n",
       "      <td>NaN</td>\n",
       "      <td>NaN</td>\n",
       "      <td>NaN</td>\n",
       "      <td>0.6519646475712425</td>\n",
       "      <td>0.4746809815950918</td>\n",
       "    </tr>\n",
       "    <tr>\n",
       "      <th>3</th>\n",
       "      <td>10749496</td>\n",
       "      <td>original-videos/licenseplate08.mp4</td>\n",
       "      <td>NaN</td>\n",
       "      <td>NaN</td>\n",
       "      <td>NaN</td>\n",
       "      <td>NaN</td>\n",
       "      <td>0.7438326545530494</td>\n",
       "      <td>0.4215263157894738</td>\n",
       "    </tr>\n",
       "    <tr>\n",
       "      <th>4</th>\n",
       "      <td>2101401</td>\n",
       "      <td>original-videos/collision02.mp4</td>\n",
       "      <td>NaN</td>\n",
       "      <td>NaN</td>\n",
       "      <td>NaN</td>\n",
       "      <td>NaN</td>\n",
       "      <td>0.8432392026578077</td>\n",
       "      <td>0.28051162790697654</td>\n",
       "    </tr>\n",
       "  </tbody>\n",
       "</table>\n",
       "</div>"
      ],
      "text/plain": [
       "  original_file_size                      video_location reduced_file_size   \n",
       "0            2091398     original-videos/collision04.mp4               NaN  \\\n",
       "1            2767585     original-videos/collision06.mp4               NaN   \n",
       "2           18178091  original-videos/licenseplate04.mp4               NaN   \n",
       "3           10749496  original-videos/licenseplate08.mp4               NaN   \n",
       "4            2101401     original-videos/collision02.mp4               NaN   \n",
       "\n",
       "  reduced_method reconstructed_method reconstructed_file_size   \n",
       "0            NaN                  NaN                     NaN  \\\n",
       "1            NaN                  NaN                     NaN   \n",
       "2            NaN                  NaN                     NaN   \n",
       "3            NaN                  NaN                     NaN   \n",
       "4            NaN                  NaN                     NaN   \n",
       "\n",
       "            yolo_score             mp_score  \n",
       "0   0.5480615942028965  0.18318012422360253  \n",
       "1  0.40738981173864913  0.19572093023255818  \n",
       "2   0.6519646475712425   0.4746809815950918  \n",
       "3   0.7438326545530494   0.4215263157894738  \n",
       "4   0.8432392026578077  0.28051162790697654  "
      ]
     },
     "execution_count": 5,
     "metadata": {},
     "output_type": "execute_result"
    }
   ],
   "source": [
    "df.head()"
   ]
  },
  {
   "cell_type": "code",
   "execution_count": 31,
   "metadata": {
    "tags": []
   },
   "outputs": [],
   "source": [
    "## to extract all of the technique names and steps from the video location and save it as a column\n",
    "def get_technique(video_location):\n",
    "    if('original-videos') in video_location:\n",
    "        return \"original-videos\"\n",
    "    else:\n",
    "        return video_location.split(\"/\")[-2]\n",
    "    \n",
    "df['technique'] = df['video_location'].apply(get_technique)\n"
   ]
  },
  {
   "cell_type": "code",
   "execution_count": 38,
   "metadata": {
    "tags": []
   },
   "outputs": [],
   "source": [
    "def get_step(video_location):\n",
    "    if('original-videos') in video_location:\n",
    "        return \"original\"\n",
    "    else:\n",
    "        return video_location.split(\"/\")[-3]\n",
    "    \n",
    "df['step'] = df['video_location'].apply(get_step)\n"
   ]
  },
  {
   "cell_type": "markdown",
   "metadata": {},
   "source": [
    "# Find the best reduction techniques"
   ]
  },
  {
   "cell_type": "code",
   "execution_count": 53,
   "metadata": {
    "tags": []
   },
   "outputs": [],
   "source": [
    "#find the mean original file size\n",
    "df['original_file_size'] = pd.to_numeric(df[\"original_file_size\"])\n",
    "mean_og = df['original_file_size'].mean(skipna= True)"
   ]
  },
  {
   "cell_type": "code",
   "execution_count": 87,
   "metadata": {
    "tags": []
   },
   "outputs": [],
   "source": [
    "## find the average file size \n",
    "\n",
    "## create df to find the best reduction\n",
    "\n",
    "df['reduced_file_size'] = pd.to_numeric(df[\"reduced_file_size\"])\n",
    "\n",
    "dict_technique_reduction_avg = {}\n",
    "\n",
    "df_reduction = df.loc[df['step'] == 'reduced-videos']\n",
    "\n",
    "for i in df_reduction['technique'].unique():\n",
    "    df_reduction_tech = df.loc[df['technique'] == i]\n",
    "    dict_technique_reduction_avg[i] = mean_og/df_reduction_tech['reduced_file_size'].mean()"
   ]
  },
  {
   "cell_type": "code",
   "execution_count": 88,
   "metadata": {
    "tags": []
   },
   "outputs": [],
   "source": [
    "from collections import OrderedDict\n",
    "\n",
    "dict_technique_reduction_avg = OrderedDict(sorted(dict_technique_reduction_avg.items(), key=lambda x: x[1], reverse = True))"
   ]
  },
  {
   "cell_type": "code",
   "execution_count": 89,
   "metadata": {
    "tags": []
   },
   "outputs": [
    {
     "data": {
      "text/plain": [
       "OrderedDict([('ffmpeg_rd-quality_240p-algorithm_lanczos', 30.20393468454852),\n",
       "             ('ffmpeg_rd-quality_360p-algorithm_lanczos', 18.36709881242929),\n",
       "             ('fps_bitrate-fps_5x-bitrate_10x', 15.375717637164907),\n",
       "             ('fps_bitrate-fps_4x-bitrate_10x', 15.272461223314526),\n",
       "             ('fps_bitrate-fps_3x-bitrate_10x', 14.774038260971315),\n",
       "             ('fps_bitrate-fps_2x-bitrate_10x', 14.197398509225824),\n",
       "             ('fps_bitrate-fps_5x-bitrate_9x', 13.67005498821681),\n",
       "             ('fps_bitrate-fps_4x-bitrate_9x', 13.572424649549886),\n",
       "             ('fps_bitrate-fps_3x-bitrate_9x', 13.30519818646692),\n",
       "             ('fps_bitrate-fps_2x-bitrate_9x', 12.657274884795891),\n",
       "             ('fps_bitrate-fps_5x-bitrate_8x', 11.40760248438665),\n",
       "             ('fps_bitrate-fps_4x-bitrate_8x', 11.287553263473898),\n",
       "             ('ffmpeg_rd-quality_480p-algorithm_lanczos', 10.929929242300378),\n",
       "             ('fps_bitrate-fps_3x-bitrate_8x', 10.90523132429338),\n",
       "             ('fps_bitrate-fps_2x-bitrate_8x', 10.285589755456702),\n",
       "             ('fps_bitrate-fps_5x-bitrate_7x', 9.977895263991796),\n",
       "             ('fps_bitrate-fps_4x-bitrate_7x', 9.842716897643692),\n",
       "             ('fps_bitrate-fps_3x-bitrate_7x', 9.486527796663738),\n",
       "             ('keyframe_extraction-keyframes_30', 9.249273418047181),\n",
       "             ('fps_bitrate-fps_2x-bitrate_7x', 8.978516968312675),\n",
       "             ('fps_bitrate-fps_5x-bitrate_6x', 8.276533998544316),\n",
       "             ('fps_bitrate-fps_4x-bitrate_6x', 8.140744188230501),\n",
       "             ('fps_bitrate-fps_3x-bitrate_6x', 7.857478411501389),\n",
       "             ('fps_bitrate-fps_2x-bitrate_6x', 7.524804770015196),\n",
       "             ('fps_bitrate-fps_5x-bitrate_5x', 6.894272342183374),\n",
       "             ('fps_bitrate-fps_4x-bitrate_5x', 6.751082639553431),\n",
       "             ('fps_bitrate-fps_3x-bitrate_5x', 6.546539409089098),\n",
       "             ('background_subtractor', 6.296084505418464),\n",
       "             ('fps_bitrate-fps_2x-bitrate_5x', 6.256622775853424),\n",
       "             ('fps_bitrate-fps_5x-bitrate_4x', 5.476617886646507),\n",
       "             ('fps_bitrate-fps_4x-bitrate_4x', 5.355493876234984),\n",
       "             ('fps_bitrate-fps_3x-bitrate_4x', 5.208259592862326),\n",
       "             ('fps_bitrate-fps_2x-bitrate_4x', 4.97132860468764),\n",
       "             ('ffmpeg_rd-quality_720p-algorithm_lanczos', 4.142348725322918),\n",
       "             ('fps_bitrate-fps_5x-bitrate_3x', 3.8265895118124487),\n",
       "             ('fps_bitrate-fps_4x-bitrate_3x', 3.775489176748597),\n",
       "             ('fps_bitrate-fps_3x-bitrate_3x', 3.6806255205466982),\n",
       "             ('fps_bitrate-fps_2x-bitrate_3x', 3.4984411428537006),\n",
       "             ('fps_bitrate-fps_5x-bitrate_2x', 2.381888032729044),\n",
       "             ('fps_bitrate-fps_4x-bitrate_2x', 2.3582784675069197),\n",
       "             ('fps_bitrate-fps_3x-bitrate_2x', 2.298625279210941),\n",
       "             ('fps_bitrate-fps_2x-bitrate_2x', 2.194160008779797),\n",
       "             ('ffmpeg_rd-quality_1080p-algorithm_lanczos', 2.052614235474675),\n",
       "             ('cv2_jpg-quality_15-crf_28', nan),\n",
       "             ('keyframe_extraction', nan)])"
      ]
     },
     "execution_count": 89,
     "metadata": {},
     "output_type": "execute_result"
    }
   ],
   "source": [
    "dict_technique_reduction_avg"
   ]
  },
  {
   "cell_type": "markdown",
   "metadata": {},
   "source": [
    "The dictionary above shows the reduction technique, and the factor reduction on video size.\n",
    "\n",
    "The key represents the technique name and the value represents the X times reduction. ex/ ffmpeg_rd-quality_240p-algorithm_lanczos had a 30x reduction"
   ]
  },
  {
   "cell_type": "markdown",
   "metadata": {},
   "source": [
    "# Find the best reconstruction technique"
   ]
  },
  {
   "cell_type": "code",
   "execution_count": 82,
   "metadata": {
    "tags": []
   },
   "outputs": [],
   "source": [
    "# find the original yolo and mp scores\n",
    "df['yolo_score'] = pd.to_numeric(df[\"yolo_score\"])\n",
    "df['mp_score'] = pd.to_numeric(df[\"mp_score\"])\n",
    "\n",
    "df_og = df.loc[df['step'] == 'original']\n",
    "\n",
    "mean_og_yolo = df_og['yolo_score'].mean()\n",
    "mean_og_mp = df_og['mp_score'].mean()\n"
   ]
  },
  {
   "cell_type": "code",
   "execution_count": 129,
   "metadata": {
    "tags": []
   },
   "outputs": [],
   "source": [
    "# find the reconstruction technique that impacted yolo the least\n",
    "\n",
    "dict_technique_recon_yolo_percent = {}\n",
    "dict_technique_recon_mp_percent = {}\n",
    "\n",
    "df_reconstructed = df.loc[df['step'] == 'reconstructed-videos']\n",
    "\n",
    "for i in df_reconstructed['technique'].unique():\n",
    "    df_reconstructed_tech = df.loc[df['technique'] == i]\n",
    "    dict_technique_recon_yolo_percent[i] = (mean_og_yolo - df_reconstructed_tech['yolo_score'].mean(skipna = True))/mean_og_yolo *100\n",
    "    dict_technique_recon_mp_percent[i] = (mean_og_mp-df_reconstructed_tech['mp_score'].mean(skipna = True))/mean_og_mp *100\n",
    "\n",
    "\n"
   ]
  },
  {
   "cell_type": "code",
   "execution_count": 130,
   "metadata": {
    "tags": []
   },
   "outputs": [
    {
     "data": {
      "text/plain": [
       "OrderedDict([('opencv_ru-codec_mp4v-resolution_1080X1920-reduction_ffmpeg_rd-quality_480p-algorithm_lanczos',\n",
       "              nan),\n",
       "             ('smooth_fps-factor4-reduction_fps_bitrate-fps_4x-bitrate_6x',\n",
       "              1.0376057230366107),\n",
       "             ('fastsrgan-codec_mp4v', nan),\n",
       "             ('smooth_fps-factor4-reduction_fps_bitrate-fps_4x-bitrate_3x',\n",
       "              -4.3752548016461565),\n",
       "             ('smooth_fps-factor4-reduction_fps_bitrate-fps_4x-bitrate_5x',\n",
       "              -3.7765543068815646),\n",
       "             ('smooth_fps-factor4-reduction_fps_bitrate-fps_4x-bitrate_4x',\n",
       "              -2.9506133498497484),\n",
       "             ('smooth_fps-factor4-reduction_fps_bitrate-fps_4x-bitrate_7x',\n",
       "              -2.7615986330240605),\n",
       "             ('smooth_fps-factor2-reduction_fps_bitrate-fps_2x-bitrate_2x',\n",
       "              -1.7992032947044423),\n",
       "             ('smooth_fps-factor3-reduction_fps_bitrate-fps_3x-bitrate_2x',\n",
       "              -1.7423608232650014),\n",
       "             ('smooth_fps-factor3-reduction_fps_bitrate-fps_3x-bitrate_6x',\n",
       "              -1.6535682160409582),\n",
       "             ('smooth_fps-factor2-reduction_fps_bitrate-fps_2x-bitrate_3x',\n",
       "              -1.6261622927968),\n",
       "             ('smooth_fps-factor3-reduction_fps_bitrate-fps_3x-bitrate_4x',\n",
       "              -1.6095644455924787),\n",
       "             ('smooth_fps-factor2-reduction_fps_bitrate-fps_2x-bitrate_4x',\n",
       "              -1.2119799064362713),\n",
       "             ('smooth_fps-factor5-reduction_fps_bitrate-fps_5x-bitrate_5x',\n",
       "              -1.2079440996035065),\n",
       "             ('smooth_fps-factor4-reduction_fps_bitrate-fps_4x-bitrate_8x',\n",
       "              -0.9977132464451344),\n",
       "             ('smooth_fps-factor2-reduction_fps_bitrate-fps_2x-bitrate_6x',\n",
       "              -0.6755821400095391),\n",
       "             ('smooth_fps-factor3-reduction_fps_bitrate-fps_3x-bitrate_3x',\n",
       "              -0.5729658447314666),\n",
       "             ('smooth_fps-factor5-reduction_fps_bitrate-fps_5x-bitrate_3x',\n",
       "              -0.5303712358321006),\n",
       "             ('smooth_fps-factor5-reduction_fps_bitrate-fps_5x-bitrate_7x',\n",
       "              -0.4996392631508079),\n",
       "             ('smooth_fps-factor3-reduction_fps_bitrate-fps_3x-bitrate_8x',\n",
       "              -0.07227102662895257),\n",
       "             ('smooth_fps-factor5-reduction_fps_bitrate-fps_5x-bitrate_2x',\n",
       "              -0.00829716099076418),\n",
       "             ('smooth_fps-factor3-reduction_fps_bitrate-fps_3x-bitrate_5x',\n",
       "              0.027000282750514793),\n",
       "             ('smooth_fps-factor5-reduction_fps_bitrate-fps_5x-bitrate_4x',\n",
       "              0.26341885397587106),\n",
       "             ('smooth_fps-factor2-reduction_fps_bitrate-fps_2x-bitrate_7x',\n",
       "              1.1171346287329365),\n",
       "             ('smooth_fps-factor5-reduction_fps_bitrate-fps_5x-bitrate_10x',\n",
       "              1.7780072142218737),\n",
       "             ('smooth_fps-factor3-reduction_fps_bitrate-fps_3x-bitrate_7x',\n",
       "              1.8945818003456243),\n",
       "             ('smooth_fps-factor5-reduction_fps_bitrate-fps_5x-bitrate_9x',\n",
       "              2.401004199377754),\n",
       "             ('smooth_fps-factor2-reduction_fps_bitrate-fps_2x-bitrate_8x',\n",
       "              3.337147117360479),\n",
       "             ('smooth_fps-factor2-reduction_fps_bitrate-fps_2x-bitrate_10x',\n",
       "              4.469461489770557),\n",
       "             ('smooth_fps-factor4-reduction_fps_bitrate-fps_4x-bitrate_10x',\n",
       "              5.120025974939172),\n",
       "             ('smooth_fps-factor2', nan),\n",
       "             ('opencv_ru-codec_mp4v-resolution_1080X1920-reduction_ffmpeg_rd-quality_360p-algorithm_lanczos',\n",
       "              nan),\n",
       "             ('opencv_ru-codec_mp4v-resolution_1080X1920-reduction_ffmpeg_rd-quality_240p-algorithm_lanczos',\n",
       "              nan),\n",
       "             ('smooth_fps-factor5-reduction_fps_bitrate-fps_5x-bitrate_6x',\n",
       "              0.2735063755982268),\n",
       "             ('smooth_fps-factor3-reduction_fps_bitrate-fps_3x-bitrate_9x',\n",
       "              0.48375002296402925),\n",
       "             ('smooth_fps-factor2-reduction_fps_bitrate-fps_2x-bitrate_5x',\n",
       "              0.7523504472598846),\n",
       "             ('smooth_fps-factor5-reduction_fps_bitrate-fps_5x-bitrate_8x',\n",
       "              1.4064125815799458),\n",
       "             ('linear_interpolation-reduction_keyframe_extraction-keyframes_30',\n",
       "              3.507279161449331),\n",
       "             ('smooth_fps-factor2-reduction_fps_bitrate-fps_2x-bitrate_9x',\n",
       "              4.033965478748129),\n",
       "             ('smooth_fps-factor4-reduction_fps_bitrate-fps_4x-bitrate_2x',\n",
       "              7.626410105850366),\n",
       "             ('opencv_ru-codec_mp4v-resolution_1080X1920-reduction_ffmpeg_rd-quality_720p-algorithm_lanczos',\n",
       "              nan),\n",
       "             ('smooth_fps-factor4-reduction_fps_bitrate-fps_4x-bitrate_9x',\n",
       "              4.363367477404309),\n",
       "             ('opencv_ru-codec_mp4v-resolution_1080X1920-reduction_ffmpeg_rd-quality_1080p-algorithm_lanczos',\n",
       "              nan),\n",
       "             ('smooth_fps-factor3-reduction_fps_bitrate-fps_3x-bitrate_10x',\n",
       "              6.73543912526927)])"
      ]
     },
     "execution_count": 130,
     "metadata": {},
     "output_type": "execute_result"
    }
   ],
   "source": [
    "dict_technique_recon_yolo_percent = OrderedDict(sorted(dict_technique_recon_yolo_percent.items(), key=lambda x: x[1]))\n",
    "\n",
    "dict_technique_recon_yolo_percent"
   ]
  },
  {
   "cell_type": "code",
   "execution_count": 131,
   "metadata": {
    "tags": []
   },
   "outputs": [
    {
     "data": {
      "text/plain": [
       "OrderedDict([('opencv_ru-codec_mp4v-resolution_1080X1920-reduction_ffmpeg_rd-quality_480p-algorithm_lanczos',\n",
       "              nan),\n",
       "             ('smooth_fps-factor2-reduction_fps_bitrate-fps_2x-bitrate_2x',\n",
       "              2.051496220188118),\n",
       "             ('smooth_fps-factor3-reduction_fps_bitrate-fps_3x-bitrate_2x',\n",
       "              2.242062666821549),\n",
       "             ('smooth_fps-factor5-reduction_fps_bitrate-fps_5x-bitrate_2x',\n",
       "              2.250074967096491),\n",
       "             ('smooth_fps-factor4-reduction_fps_bitrate-fps_4x-bitrate_2x',\n",
       "              2.7302755831867147),\n",
       "             ('smooth_fps-factor3-reduction_fps_bitrate-fps_3x-bitrate_3x',\n",
       "              2.7315321267193644),\n",
       "             ('smooth_fps-factor5-reduction_fps_bitrate-fps_5x-bitrate_4x',\n",
       "              2.844143405696179),\n",
       "             ('smooth_fps-factor2-reduction_fps_bitrate-fps_2x-bitrate_3x',\n",
       "              2.859780381531053),\n",
       "             ('smooth_fps-factor4-reduction_fps_bitrate-fps_4x-bitrate_4x',\n",
       "              3.91942016245835),\n",
       "             ('smooth_fps-factor4-reduction_fps_bitrate-fps_4x-bitrate_6x',\n",
       "              4.095702877412873),\n",
       "             ('fastsrgan-codec_mp4v', nan),\n",
       "             ('smooth_fps-factor4-reduction_fps_bitrate-fps_4x-bitrate_3x',\n",
       "              2.8655437042348355),\n",
       "             ('smooth_fps-factor5-reduction_fps_bitrate-fps_5x-bitrate_3x',\n",
       "              3.1321322500112854),\n",
       "             ('smooth_fps-factor2-reduction_fps_bitrate-fps_2x-bitrate_5x',\n",
       "              3.395860187339107),\n",
       "             ('smooth_fps-factor2-reduction_fps_bitrate-fps_2x-bitrate_4x',\n",
       "              3.4160126501750474),\n",
       "             ('smooth_fps-factor5-reduction_fps_bitrate-fps_5x-bitrate_5x',\n",
       "              3.441170379100558),\n",
       "             ('smooth_fps-factor3-reduction_fps_bitrate-fps_3x-bitrate_4x',\n",
       "              3.5470397766359296),\n",
       "             ('smooth_fps-factor3-reduction_fps_bitrate-fps_3x-bitrate_7x',\n",
       "              3.989756623739334),\n",
       "             ('smooth_fps-factor5-reduction_fps_bitrate-fps_5x-bitrate_6x',\n",
       "              4.018045509464961),\n",
       "             ('smooth_fps-factor4-reduction_fps_bitrate-fps_4x-bitrate_5x',\n",
       "              4.045397714492034),\n",
       "             ('smooth_fps-factor4-reduction_fps_bitrate-fps_4x-bitrate_7x',\n",
       "              4.132819368205244),\n",
       "             ('smooth_fps-factor3-reduction_fps_bitrate-fps_3x-bitrate_5x',\n",
       "              4.163652188938441),\n",
       "             ('linear_interpolation-reduction_keyframe_extraction-keyframes_30',\n",
       "              4.2588297727908575),\n",
       "             ('smooth_fps-factor2-reduction_fps_bitrate-fps_2x-bitrate_7x',\n",
       "              4.35320047568344),\n",
       "             ('smooth_fps-factor3-reduction_fps_bitrate-fps_3x-bitrate_8x',\n",
       "              4.909227061876258),\n",
       "             ('smooth_fps-factor5-reduction_fps_bitrate-fps_5x-bitrate_9x',\n",
       "              5.440211127615564),\n",
       "             ('smooth_fps-factor4-reduction_fps_bitrate-fps_4x-bitrate_10x',\n",
       "              5.568790903684303),\n",
       "             ('smooth_fps-factor2', nan),\n",
       "             ('smooth_fps-factor5-reduction_fps_bitrate-fps_5x-bitrate_7x',\n",
       "              4.940679366639253),\n",
       "             ('smooth_fps-factor3-reduction_fps_bitrate-fps_3x-bitrate_9x',\n",
       "              5.087307614395498),\n",
       "             ('smooth_fps-factor2-reduction_fps_bitrate-fps_2x-bitrate_9x',\n",
       "              5.472558124378722),\n",
       "             ('smooth_fps-factor5-reduction_fps_bitrate-fps_5x-bitrate_10x',\n",
       "              6.404951977906735),\n",
       "             ('opencv_ru-codec_mp4v-resolution_1080X1920-reduction_ffmpeg_rd-quality_360p-algorithm_lanczos',\n",
       "              nan),\n",
       "             ('smooth_fps-factor2-reduction_fps_bitrate-fps_2x-bitrate_6x',\n",
       "              5.009373684362168),\n",
       "             ('smooth_fps-factor5-reduction_fps_bitrate-fps_5x-bitrate_8x',\n",
       "              5.2246846269057965),\n",
       "             ('smooth_fps-factor3-reduction_fps_bitrate-fps_3x-bitrate_6x',\n",
       "              5.559209612833498),\n",
       "             ('smooth_fps-factor2-reduction_fps_bitrate-fps_2x-bitrate_8x',\n",
       "              5.706236137474878),\n",
       "             ('smooth_fps-factor4-reduction_fps_bitrate-fps_4x-bitrate_9x',\n",
       "              6.396344436743956),\n",
       "             ('smooth_fps-factor4-reduction_fps_bitrate-fps_4x-bitrate_8x',\n",
       "              6.455678360503689),\n",
       "             ('smooth_fps-factor2-reduction_fps_bitrate-fps_2x-bitrate_10x',\n",
       "              6.668510958896724),\n",
       "             ('opencv_ru-codec_mp4v-resolution_1080X1920-reduction_ffmpeg_rd-quality_240p-algorithm_lanczos',\n",
       "              nan),\n",
       "             ('opencv_ru-codec_mp4v-resolution_1080X1920-reduction_ffmpeg_rd-quality_720p-algorithm_lanczos',\n",
       "              nan),\n",
       "             ('opencv_ru-codec_mp4v-resolution_1080X1920-reduction_ffmpeg_rd-quality_1080p-algorithm_lanczos',\n",
       "              nan),\n",
       "             ('smooth_fps-factor3-reduction_fps_bitrate-fps_3x-bitrate_10x',\n",
       "              6.799250057164934)])"
      ]
     },
     "execution_count": 131,
     "metadata": {},
     "output_type": "execute_result"
    }
   ],
   "source": [
    "dict_technique_recon_mp_percent = OrderedDict(sorted(dict_technique_recon_mp_percent.items(), key=lambda x: x[1]))\n",
    "dict_technique_recon_mp_percent"
   ]
  },
  {
   "cell_type": "markdown",
   "metadata": {},
   "source": [
    "Here the mediapipe and yolo results are represented by the keys as technique for reconstruciton, and the value as the % decrease in average confidence score. "
   ]
  },
  {
   "cell_type": "code",
   "execution_count": null,
   "metadata": {},
   "outputs": [],
   "source": []
  }
 ],
 "metadata": {
  "availableInstances": [
   {
    "_defaultOrder": 0,
    "_isFastLaunch": true,
    "category": "General purpose",
    "gpuNum": 0,
    "hideHardwareSpecs": false,
    "memoryGiB": 4,
    "name": "ml.t3.medium",
    "vcpuNum": 2
   },
   {
    "_defaultOrder": 1,
    "_isFastLaunch": false,
    "category": "General purpose",
    "gpuNum": 0,
    "hideHardwareSpecs": false,
    "memoryGiB": 8,
    "name": "ml.t3.large",
    "vcpuNum": 2
   },
   {
    "_defaultOrder": 2,
    "_isFastLaunch": false,
    "category": "General purpose",
    "gpuNum": 0,
    "hideHardwareSpecs": false,
    "memoryGiB": 16,
    "name": "ml.t3.xlarge",
    "vcpuNum": 4
   },
   {
    "_defaultOrder": 3,
    "_isFastLaunch": false,
    "category": "General purpose",
    "gpuNum": 0,
    "hideHardwareSpecs": false,
    "memoryGiB": 32,
    "name": "ml.t3.2xlarge",
    "vcpuNum": 8
   },
   {
    "_defaultOrder": 4,
    "_isFastLaunch": true,
    "category": "General purpose",
    "gpuNum": 0,
    "hideHardwareSpecs": false,
    "memoryGiB": 8,
    "name": "ml.m5.large",
    "vcpuNum": 2
   },
   {
    "_defaultOrder": 5,
    "_isFastLaunch": false,
    "category": "General purpose",
    "gpuNum": 0,
    "hideHardwareSpecs": false,
    "memoryGiB": 16,
    "name": "ml.m5.xlarge",
    "vcpuNum": 4
   },
   {
    "_defaultOrder": 6,
    "_isFastLaunch": false,
    "category": "General purpose",
    "gpuNum": 0,
    "hideHardwareSpecs": false,
    "memoryGiB": 32,
    "name": "ml.m5.2xlarge",
    "vcpuNum": 8
   },
   {
    "_defaultOrder": 7,
    "_isFastLaunch": false,
    "category": "General purpose",
    "gpuNum": 0,
    "hideHardwareSpecs": false,
    "memoryGiB": 64,
    "name": "ml.m5.4xlarge",
    "vcpuNum": 16
   },
   {
    "_defaultOrder": 8,
    "_isFastLaunch": false,
    "category": "General purpose",
    "gpuNum": 0,
    "hideHardwareSpecs": false,
    "memoryGiB": 128,
    "name": "ml.m5.8xlarge",
    "vcpuNum": 32
   },
   {
    "_defaultOrder": 9,
    "_isFastLaunch": false,
    "category": "General purpose",
    "gpuNum": 0,
    "hideHardwareSpecs": false,
    "memoryGiB": 192,
    "name": "ml.m5.12xlarge",
    "vcpuNum": 48
   },
   {
    "_defaultOrder": 10,
    "_isFastLaunch": false,
    "category": "General purpose",
    "gpuNum": 0,
    "hideHardwareSpecs": false,
    "memoryGiB": 256,
    "name": "ml.m5.16xlarge",
    "vcpuNum": 64
   },
   {
    "_defaultOrder": 11,
    "_isFastLaunch": false,
    "category": "General purpose",
    "gpuNum": 0,
    "hideHardwareSpecs": false,
    "memoryGiB": 384,
    "name": "ml.m5.24xlarge",
    "vcpuNum": 96
   },
   {
    "_defaultOrder": 12,
    "_isFastLaunch": false,
    "category": "General purpose",
    "gpuNum": 0,
    "hideHardwareSpecs": false,
    "memoryGiB": 8,
    "name": "ml.m5d.large",
    "vcpuNum": 2
   },
   {
    "_defaultOrder": 13,
    "_isFastLaunch": false,
    "category": "General purpose",
    "gpuNum": 0,
    "hideHardwareSpecs": false,
    "memoryGiB": 16,
    "name": "ml.m5d.xlarge",
    "vcpuNum": 4
   },
   {
    "_defaultOrder": 14,
    "_isFastLaunch": false,
    "category": "General purpose",
    "gpuNum": 0,
    "hideHardwareSpecs": false,
    "memoryGiB": 32,
    "name": "ml.m5d.2xlarge",
    "vcpuNum": 8
   },
   {
    "_defaultOrder": 15,
    "_isFastLaunch": false,
    "category": "General purpose",
    "gpuNum": 0,
    "hideHardwareSpecs": false,
    "memoryGiB": 64,
    "name": "ml.m5d.4xlarge",
    "vcpuNum": 16
   },
   {
    "_defaultOrder": 16,
    "_isFastLaunch": false,
    "category": "General purpose",
    "gpuNum": 0,
    "hideHardwareSpecs": false,
    "memoryGiB": 128,
    "name": "ml.m5d.8xlarge",
    "vcpuNum": 32
   },
   {
    "_defaultOrder": 17,
    "_isFastLaunch": false,
    "category": "General purpose",
    "gpuNum": 0,
    "hideHardwareSpecs": false,
    "memoryGiB": 192,
    "name": "ml.m5d.12xlarge",
    "vcpuNum": 48
   },
   {
    "_defaultOrder": 18,
    "_isFastLaunch": false,
    "category": "General purpose",
    "gpuNum": 0,
    "hideHardwareSpecs": false,
    "memoryGiB": 256,
    "name": "ml.m5d.16xlarge",
    "vcpuNum": 64
   },
   {
    "_defaultOrder": 19,
    "_isFastLaunch": false,
    "category": "General purpose",
    "gpuNum": 0,
    "hideHardwareSpecs": false,
    "memoryGiB": 384,
    "name": "ml.m5d.24xlarge",
    "vcpuNum": 96
   },
   {
    "_defaultOrder": 20,
    "_isFastLaunch": false,
    "category": "General purpose",
    "gpuNum": 0,
    "hideHardwareSpecs": true,
    "memoryGiB": 0,
    "name": "ml.geospatial.interactive",
    "supportedImageNames": [
     "sagemaker-geospatial-v1-0"
    ],
    "vcpuNum": 0
   },
   {
    "_defaultOrder": 21,
    "_isFastLaunch": true,
    "category": "Compute optimized",
    "gpuNum": 0,
    "hideHardwareSpecs": false,
    "memoryGiB": 4,
    "name": "ml.c5.large",
    "vcpuNum": 2
   },
   {
    "_defaultOrder": 22,
    "_isFastLaunch": false,
    "category": "Compute optimized",
    "gpuNum": 0,
    "hideHardwareSpecs": false,
    "memoryGiB": 8,
    "name": "ml.c5.xlarge",
    "vcpuNum": 4
   },
   {
    "_defaultOrder": 23,
    "_isFastLaunch": false,
    "category": "Compute optimized",
    "gpuNum": 0,
    "hideHardwareSpecs": false,
    "memoryGiB": 16,
    "name": "ml.c5.2xlarge",
    "vcpuNum": 8
   },
   {
    "_defaultOrder": 24,
    "_isFastLaunch": false,
    "category": "Compute optimized",
    "gpuNum": 0,
    "hideHardwareSpecs": false,
    "memoryGiB": 32,
    "name": "ml.c5.4xlarge",
    "vcpuNum": 16
   },
   {
    "_defaultOrder": 25,
    "_isFastLaunch": false,
    "category": "Compute optimized",
    "gpuNum": 0,
    "hideHardwareSpecs": false,
    "memoryGiB": 72,
    "name": "ml.c5.9xlarge",
    "vcpuNum": 36
   },
   {
    "_defaultOrder": 26,
    "_isFastLaunch": false,
    "category": "Compute optimized",
    "gpuNum": 0,
    "hideHardwareSpecs": false,
    "memoryGiB": 96,
    "name": "ml.c5.12xlarge",
    "vcpuNum": 48
   },
   {
    "_defaultOrder": 27,
    "_isFastLaunch": false,
    "category": "Compute optimized",
    "gpuNum": 0,
    "hideHardwareSpecs": false,
    "memoryGiB": 144,
    "name": "ml.c5.18xlarge",
    "vcpuNum": 72
   },
   {
    "_defaultOrder": 28,
    "_isFastLaunch": false,
    "category": "Compute optimized",
    "gpuNum": 0,
    "hideHardwareSpecs": false,
    "memoryGiB": 192,
    "name": "ml.c5.24xlarge",
    "vcpuNum": 96
   },
   {
    "_defaultOrder": 29,
    "_isFastLaunch": true,
    "category": "Accelerated computing",
    "gpuNum": 1,
    "hideHardwareSpecs": false,
    "memoryGiB": 16,
    "name": "ml.g4dn.xlarge",
    "vcpuNum": 4
   },
   {
    "_defaultOrder": 30,
    "_isFastLaunch": false,
    "category": "Accelerated computing",
    "gpuNum": 1,
    "hideHardwareSpecs": false,
    "memoryGiB": 32,
    "name": "ml.g4dn.2xlarge",
    "vcpuNum": 8
   },
   {
    "_defaultOrder": 31,
    "_isFastLaunch": false,
    "category": "Accelerated computing",
    "gpuNum": 1,
    "hideHardwareSpecs": false,
    "memoryGiB": 64,
    "name": "ml.g4dn.4xlarge",
    "vcpuNum": 16
   },
   {
    "_defaultOrder": 32,
    "_isFastLaunch": false,
    "category": "Accelerated computing",
    "gpuNum": 1,
    "hideHardwareSpecs": false,
    "memoryGiB": 128,
    "name": "ml.g4dn.8xlarge",
    "vcpuNum": 32
   },
   {
    "_defaultOrder": 33,
    "_isFastLaunch": false,
    "category": "Accelerated computing",
    "gpuNum": 4,
    "hideHardwareSpecs": false,
    "memoryGiB": 192,
    "name": "ml.g4dn.12xlarge",
    "vcpuNum": 48
   },
   {
    "_defaultOrder": 34,
    "_isFastLaunch": false,
    "category": "Accelerated computing",
    "gpuNum": 1,
    "hideHardwareSpecs": false,
    "memoryGiB": 256,
    "name": "ml.g4dn.16xlarge",
    "vcpuNum": 64
   },
   {
    "_defaultOrder": 35,
    "_isFastLaunch": false,
    "category": "Accelerated computing",
    "gpuNum": 1,
    "hideHardwareSpecs": false,
    "memoryGiB": 61,
    "name": "ml.p3.2xlarge",
    "vcpuNum": 8
   },
   {
    "_defaultOrder": 36,
    "_isFastLaunch": false,
    "category": "Accelerated computing",
    "gpuNum": 4,
    "hideHardwareSpecs": false,
    "memoryGiB": 244,
    "name": "ml.p3.8xlarge",
    "vcpuNum": 32
   },
   {
    "_defaultOrder": 37,
    "_isFastLaunch": false,
    "category": "Accelerated computing",
    "gpuNum": 8,
    "hideHardwareSpecs": false,
    "memoryGiB": 488,
    "name": "ml.p3.16xlarge",
    "vcpuNum": 64
   },
   {
    "_defaultOrder": 38,
    "_isFastLaunch": false,
    "category": "Accelerated computing",
    "gpuNum": 8,
    "hideHardwareSpecs": false,
    "memoryGiB": 768,
    "name": "ml.p3dn.24xlarge",
    "vcpuNum": 96
   },
   {
    "_defaultOrder": 39,
    "_isFastLaunch": false,
    "category": "Memory Optimized",
    "gpuNum": 0,
    "hideHardwareSpecs": false,
    "memoryGiB": 16,
    "name": "ml.r5.large",
    "vcpuNum": 2
   },
   {
    "_defaultOrder": 40,
    "_isFastLaunch": false,
    "category": "Memory Optimized",
    "gpuNum": 0,
    "hideHardwareSpecs": false,
    "memoryGiB": 32,
    "name": "ml.r5.xlarge",
    "vcpuNum": 4
   },
   {
    "_defaultOrder": 41,
    "_isFastLaunch": false,
    "category": "Memory Optimized",
    "gpuNum": 0,
    "hideHardwareSpecs": false,
    "memoryGiB": 64,
    "name": "ml.r5.2xlarge",
    "vcpuNum": 8
   },
   {
    "_defaultOrder": 42,
    "_isFastLaunch": false,
    "category": "Memory Optimized",
    "gpuNum": 0,
    "hideHardwareSpecs": false,
    "memoryGiB": 128,
    "name": "ml.r5.4xlarge",
    "vcpuNum": 16
   },
   {
    "_defaultOrder": 43,
    "_isFastLaunch": false,
    "category": "Memory Optimized",
    "gpuNum": 0,
    "hideHardwareSpecs": false,
    "memoryGiB": 256,
    "name": "ml.r5.8xlarge",
    "vcpuNum": 32
   },
   {
    "_defaultOrder": 44,
    "_isFastLaunch": false,
    "category": "Memory Optimized",
    "gpuNum": 0,
    "hideHardwareSpecs": false,
    "memoryGiB": 384,
    "name": "ml.r5.12xlarge",
    "vcpuNum": 48
   },
   {
    "_defaultOrder": 45,
    "_isFastLaunch": false,
    "category": "Memory Optimized",
    "gpuNum": 0,
    "hideHardwareSpecs": false,
    "memoryGiB": 512,
    "name": "ml.r5.16xlarge",
    "vcpuNum": 64
   },
   {
    "_defaultOrder": 46,
    "_isFastLaunch": false,
    "category": "Memory Optimized",
    "gpuNum": 0,
    "hideHardwareSpecs": false,
    "memoryGiB": 768,
    "name": "ml.r5.24xlarge",
    "vcpuNum": 96
   },
   {
    "_defaultOrder": 47,
    "_isFastLaunch": false,
    "category": "Accelerated computing",
    "gpuNum": 1,
    "hideHardwareSpecs": false,
    "memoryGiB": 16,
    "name": "ml.g5.xlarge",
    "vcpuNum": 4
   },
   {
    "_defaultOrder": 48,
    "_isFastLaunch": false,
    "category": "Accelerated computing",
    "gpuNum": 1,
    "hideHardwareSpecs": false,
    "memoryGiB": 32,
    "name": "ml.g5.2xlarge",
    "vcpuNum": 8
   },
   {
    "_defaultOrder": 49,
    "_isFastLaunch": false,
    "category": "Accelerated computing",
    "gpuNum": 1,
    "hideHardwareSpecs": false,
    "memoryGiB": 64,
    "name": "ml.g5.4xlarge",
    "vcpuNum": 16
   },
   {
    "_defaultOrder": 50,
    "_isFastLaunch": false,
    "category": "Accelerated computing",
    "gpuNum": 1,
    "hideHardwareSpecs": false,
    "memoryGiB": 128,
    "name": "ml.g5.8xlarge",
    "vcpuNum": 32
   },
   {
    "_defaultOrder": 51,
    "_isFastLaunch": false,
    "category": "Accelerated computing",
    "gpuNum": 1,
    "hideHardwareSpecs": false,
    "memoryGiB": 256,
    "name": "ml.g5.16xlarge",
    "vcpuNum": 64
   },
   {
    "_defaultOrder": 52,
    "_isFastLaunch": false,
    "category": "Accelerated computing",
    "gpuNum": 4,
    "hideHardwareSpecs": false,
    "memoryGiB": 192,
    "name": "ml.g5.12xlarge",
    "vcpuNum": 48
   },
   {
    "_defaultOrder": 53,
    "_isFastLaunch": false,
    "category": "Accelerated computing",
    "gpuNum": 4,
    "hideHardwareSpecs": false,
    "memoryGiB": 384,
    "name": "ml.g5.24xlarge",
    "vcpuNum": 96
   },
   {
    "_defaultOrder": 54,
    "_isFastLaunch": false,
    "category": "Accelerated computing",
    "gpuNum": 8,
    "hideHardwareSpecs": false,
    "memoryGiB": 768,
    "name": "ml.g5.48xlarge",
    "vcpuNum": 192
   },
   {
    "_defaultOrder": 55,
    "_isFastLaunch": false,
    "category": "Accelerated computing",
    "gpuNum": 8,
    "hideHardwareSpecs": false,
    "memoryGiB": 1152,
    "name": "ml.p4d.24xlarge",
    "vcpuNum": 96
   },
   {
    "_defaultOrder": 56,
    "_isFastLaunch": false,
    "category": "Accelerated computing",
    "gpuNum": 8,
    "hideHardwareSpecs": false,
    "memoryGiB": 1152,
    "name": "ml.p4de.24xlarge",
    "vcpuNum": 96
   }
  ],
  "instance_type": "ml.g5.4xlarge",
  "kernelspec": {
   "display_name": "Python 3 (PyTorch 2.0.0 Python 3.10 GPU Optimized)",
   "language": "python",
   "name": "python3__SAGEMAKER_INTERNAL__arn:aws:sagemaker:us-east-1:081325390199:image/pytorch-2.0.0-gpu-py310"
  },
  "language_info": {
   "codemirror_mode": {
    "name": "ipython",
    "version": 3
   },
   "file_extension": ".py",
   "mimetype": "text/x-python",
   "name": "python",
   "nbconvert_exporter": "python",
   "pygments_lexer": "ipython3",
   "version": "3.10.8"
  }
 },
 "nbformat": 4,
 "nbformat_minor": 4
}
