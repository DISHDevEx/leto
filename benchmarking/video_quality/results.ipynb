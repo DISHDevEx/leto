{
 "cells": [
  {
   "cell_type": "markdown",
   "metadata": {},
   "source": [
    "# Import 'mergetablestodf' function for merging tables"
   ]
  },
  {
   "cell_type": "code",
   "execution_count": 2,
   "metadata": {
    "tags": []
   },
   "outputs": [],
   "source": [
    "import pandas as pd"
   ]
  },
  {
   "cell_type": "code",
   "execution_count": 3,
   "metadata": {
    "tags": []
   },
   "outputs": [],
   "source": [
    "from table_merge import mergetablestodf"
   ]
  },
  {
   "cell_type": "markdown",
   "metadata": {},
   "source": [
    "# Merging data from dynamoDB tables to a dataframe"
   ]
  },
  {
   "cell_type": "code",
   "execution_count": 4,
   "metadata": {
    "collapsed": false,
    "jupyter": {
     "outputs_hidden": false
    },
    "pycharm": {
     "name": "#%%\n"
    },
    "tags": []
   },
   "outputs": [],
   "source": [
    "df = mergetablestodf()"
   ]
  },
  {
   "cell_type": "markdown",
   "metadata": {},
   "source": [
    "# Dataframe for analysis"
   ]
  },
  {
   "cell_type": "code",
   "execution_count": 5,
   "metadata": {
    "collapsed": false,
    "jupyter": {
     "outputs_hidden": false
    },
    "pycharm": {
     "name": "#%%\n"
    },
    "tags": []
   },
   "outputs": [
    {
     "data": {
      "text/html": [
       "<div>\n",
       "<style scoped>\n",
       "    .dataframe tbody tr th:only-of-type {\n",
       "        vertical-align: middle;\n",
       "    }\n",
       "\n",
       "    .dataframe tbody tr th {\n",
       "        vertical-align: top;\n",
       "    }\n",
       "\n",
       "    .dataframe thead th {\n",
       "        text-align: right;\n",
       "    }\n",
       "</style>\n",
       "<table border=\"1\" class=\"dataframe\">\n",
       "  <thead>\n",
       "    <tr style=\"text-align: right;\">\n",
       "      <th></th>\n",
       "      <th>original_file_size</th>\n",
       "      <th>video_location</th>\n",
       "      <th>reduced_file_size</th>\n",
       "      <th>reduced_method</th>\n",
       "      <th>reconstructed_method</th>\n",
       "      <th>reconstructed_file_size</th>\n",
       "      <th>yolo_score</th>\n",
       "      <th>mp_score</th>\n",
       "    </tr>\n",
       "  </thead>\n",
       "  <tbody>\n",
       "    <tr>\n",
       "      <th>0</th>\n",
       "      <td>2091398</td>\n",
       "      <td>original-videos/collision04.mp4</td>\n",
       "      <td>NaN</td>\n",
       "      <td>NaN</td>\n",
       "      <td>NaN</td>\n",
       "      <td>NaN</td>\n",
       "      <td>0.5480615942028965</td>\n",
       "      <td>0.18318012422360253</td>\n",
       "    </tr>\n",
       "    <tr>\n",
       "      <th>1</th>\n",
       "      <td>2767585</td>\n",
       "      <td>original-videos/collision06.mp4</td>\n",
       "      <td>NaN</td>\n",
       "      <td>NaN</td>\n",
       "      <td>NaN</td>\n",
       "      <td>NaN</td>\n",
       "      <td>0.40738981173864913</td>\n",
       "      <td>0.19572093023255818</td>\n",
       "    </tr>\n",
       "    <tr>\n",
       "      <th>2</th>\n",
       "      <td>18178091</td>\n",
       "      <td>original-videos/licenseplate04.mp4</td>\n",
       "      <td>NaN</td>\n",
       "      <td>NaN</td>\n",
       "      <td>NaN</td>\n",
       "      <td>NaN</td>\n",
       "      <td>0.6519646475712425</td>\n",
       "      <td>0.4746809815950918</td>\n",
       "    </tr>\n",
       "    <tr>\n",
       "      <th>3</th>\n",
       "      <td>10749496</td>\n",
       "      <td>original-videos/licenseplate08.mp4</td>\n",
       "      <td>NaN</td>\n",
       "      <td>NaN</td>\n",
       "      <td>NaN</td>\n",
       "      <td>NaN</td>\n",
       "      <td>0.7438326545530494</td>\n",
       "      <td>0.4215263157894738</td>\n",
       "    </tr>\n",
       "    <tr>\n",
       "      <th>4</th>\n",
       "      <td>2101401</td>\n",
       "      <td>original-videos/collision02.mp4</td>\n",
       "      <td>NaN</td>\n",
       "      <td>NaN</td>\n",
       "      <td>NaN</td>\n",
       "      <td>NaN</td>\n",
       "      <td>0.8432392026578077</td>\n",
       "      <td>0.28051162790697654</td>\n",
       "    </tr>\n",
       "  </tbody>\n",
       "</table>\n",
       "</div>"
      ],
      "text/plain": [
       "  original_file_size                      video_location reduced_file_size  \\\n",
       "0            2091398     original-videos/collision04.mp4               NaN   \n",
       "1            2767585     original-videos/collision06.mp4               NaN   \n",
       "2           18178091  original-videos/licenseplate04.mp4               NaN   \n",
       "3           10749496  original-videos/licenseplate08.mp4               NaN   \n",
       "4            2101401     original-videos/collision02.mp4               NaN   \n",
       "\n",
       "  reduced_method reconstructed_method reconstructed_file_size  \\\n",
       "0            NaN                  NaN                     NaN   \n",
       "1            NaN                  NaN                     NaN   \n",
       "2            NaN                  NaN                     NaN   \n",
       "3            NaN                  NaN                     NaN   \n",
       "4            NaN                  NaN                     NaN   \n",
       "\n",
       "            yolo_score             mp_score  \n",
       "0   0.5480615942028965  0.18318012422360253  \n",
       "1  0.40738981173864913  0.19572093023255818  \n",
       "2   0.6519646475712425   0.4746809815950918  \n",
       "3   0.7438326545530494   0.4215263157894738  \n",
       "4   0.8432392026578077  0.28051162790697654  "
      ]
     },
     "execution_count": 5,
     "metadata": {},
     "output_type": "execute_result"
    }
   ],
   "source": [
    "df.head()"
   ]
  },
  {
   "cell_type": "code",
   "execution_count": 6,
   "metadata": {
    "tags": []
   },
   "outputs": [],
   "source": [
    "## to extract all of the technique names and steps from the video location and save it as a column\n",
    "def get_technique(video_location):\n",
    "    if('original-videos') in video_location:\n",
    "        return \"original-videos\"\n",
    "    else:\n",
    "        return video_location.split(\"/\")[-2]\n",
    "    \n",
    "df['technique'] = df['video_location'].apply(get_technique)\n"
   ]
  },
  {
   "cell_type": "code",
   "execution_count": 7,
   "metadata": {
    "tags": []
   },
   "outputs": [],
   "source": [
    "def get_step(video_location):\n",
    "    if('original-videos') in video_location:\n",
    "        return \"original\"\n",
    "    else:\n",
    "        return video_location.split(\"/\")[-3]\n",
    "    \n",
    "df['step'] = df['video_location'].apply(get_step)\n"
   ]
  },
  {
   "cell_type": "markdown",
   "metadata": {},
   "source": [
    "# Find the best reduction techniques"
   ]
  },
  {
   "cell_type": "code",
   "execution_count": 8,
   "metadata": {
    "tags": []
   },
   "outputs": [],
   "source": [
    "#find the mean original file size\n",
    "df['original_file_size'] = pd.to_numeric(df[\"original_file_size\"])\n",
    "mean_og = df['original_file_size'].mean(skipna= True)"
   ]
  },
  {
   "cell_type": "code",
   "execution_count": 9,
   "metadata": {
    "tags": []
   },
   "outputs": [],
   "source": [
    "## find the average file size \n",
    "\n",
    "## create df to find the best reduction\n",
    "\n",
    "df['reduced_file_size'] = pd.to_numeric(df[\"reduced_file_size\"])\n",
    "\n",
    "dict_technique_reduction_avg = {}\n",
    "\n",
    "df_reduction = df.loc[df['step'] == 'reduced-videos']\n",
    "\n",
    "for i in df_reduction['technique'].unique():\n",
    "    df_reduction_tech = df.loc[df['technique'] == i]\n",
    "    dict_technique_reduction_avg[i] = mean_og/df_reduction_tech['reduced_file_size'].mean()"
   ]
  },
  {
   "cell_type": "code",
   "execution_count": 10,
   "metadata": {
    "tags": []
   },
   "outputs": [],
   "source": [
    "from collections import OrderedDict\n",
    "\n",
    "dict_technique_reduction_avg = OrderedDict(sorted(dict_technique_reduction_avg.items(), key=lambda x: x[1], reverse = True))"
   ]
  },
  {
   "cell_type": "code",
   "execution_count": 11,
   "metadata": {
    "tags": []
   },
   "outputs": [
    {
     "data": {
      "text/plain": [
       "OrderedDict([('ffmpeg_rd-quality_240p-algorithm_lanczos', 30.20393468454852),\n",
       "             ('ffmpeg_rd-quality_360p-algorithm_lanczos', 18.36709881242929),\n",
       "             ('fps_bitrate-fps_5x-bitrate_10x', 13.814648068934439),\n",
       "             ('fps_bitrate-fps_4x-bitrate_10x', 13.623390334070221),\n",
       "             ('fps_bitrate-fps_3x-bitrate_10x', 13.184123953098258),\n",
       "             ('fps_bitrate-fps_2x-bitrate_10x', 12.585390029565719),\n",
       "             ('fps_bitrate-fps_5x-bitrate_9x', 12.278428907772266),\n",
       "             ('fps_bitrate-fps_4x-bitrate_9x', 12.122931133054342),\n",
       "             ('fps_bitrate-fps_3x-bitrate_9x', 11.847717015137281),\n",
       "             ('fps_bitrate-fps_2x-bitrate_9x', 11.260163202169709),\n",
       "             ('ffmpeg_rd-quality_480p-algorithm_lanczos', 10.929929242300378),\n",
       "             ('fps_bitrate-fps_5x-bitrate_8x', 10.880499538372545),\n",
       "             ('fps_bitrate-fps_4x-bitrate_8x', 10.719315453783247),\n",
       "             ('fps_bitrate-fps_3x-bitrate_8x', 10.417859019073019),\n",
       "             ('fps_bitrate-fps_2x-bitrate_8x', 9.926783845705875),\n",
       "             ('fps_bitrate-fps_5x-bitrate_7x', 9.459727073399643),\n",
       "             ('fps_bitrate-fps_4x-bitrate_7x', 9.327309393674629),\n",
       "             ('keyframe_extraction-keyframes_30', 9.249273418047181),\n",
       "             ('fps_bitrate-fps_3x-bitrate_7x', 9.0405848404903),\n",
       "             ('fps_bitrate-fps_2x-bitrate_7x', 8.64100781317997),\n",
       "             ('fps_bitrate-fps_5x-bitrate_6x', 8.059697946108892),\n",
       "             ('fps_bitrate-fps_4x-bitrate_6x', 7.9404240645300606),\n",
       "             ('nn-codec-l2048-resolution_896X1664', 7.859735966060522),\n",
       "             ('nn-codec-l1024-resolution_896X1664', 7.852367047416998),\n",
       "             ('fps_bitrate-fps_3x-bitrate_6x', 7.684759173772498),\n",
       "             ('fps_bitrate-fps_2x-bitrate_6x', 7.345210960846883),\n",
       "             ('nn-codec-l256-resolution_896X1664', 7.147250103140168),\n",
       "             ('fps_bitrate-fps_5x-bitrate_5x', 6.702475868898805),\n",
       "             ('fps_bitrate-fps_4x-bitrate_5x', 6.57432007718153),\n",
       "             ('fps_bitrate-fps_3x-bitrate_5x', 6.395114912746715),\n",
       "             ('background_subtractor', 6.296084505418464),\n",
       "             ('fps_bitrate-fps_2x-bitrate_5x', 6.097680050665696),\n",
       "             ('fps_bitrate-fps_5x-bitrate_4x', 5.320747689211345),\n",
       "             ('fps_bitrate-fps_4x-bitrate_4x', 5.214778994084394),\n",
       "             ('fps_bitrate-fps_3x-bitrate_4x', 5.079319407974719),\n",
       "             ('fps_bitrate-fps_2x-bitrate_4x', 4.838245304427706),\n",
       "             ('ffmpeg_rd-quality_720p-algorithm_lanczos', 4.142348725322918),\n",
       "             ('fps_bitrate-fps_5x-bitrate_3x', 3.923284376470652),\n",
       "             ('fps_bitrate-fps_4x-bitrate_3x', 3.873259976010828),\n",
       "             ('fps_bitrate-fps_3x-bitrate_3x', 3.7762890368413276),\n",
       "             ('fps_bitrate-fps_2x-bitrate_3x', 3.5926405873018337),\n",
       "             ('fps_bitrate-fps_5x-bitrate_2x', 2.561722142828788),\n",
       "             ('fps_bitrate-fps_4x-bitrate_2x', 2.5369438621789326),\n",
       "             ('fps_bitrate-fps_3x-bitrate_2x', 2.4671195204590237),\n",
       "             ('fps_bitrate-fps_2x-bitrate_2x', 2.353774055315573),\n",
       "             ('ffmpeg_rd-quality_1080p-algorithm_lanczos', 2.052614235474675),\n",
       "             ('cv2_jpg-quality_15-crf_28', 1.3778588385432462)])"
      ]
     },
     "execution_count": 11,
     "metadata": {},
     "output_type": "execute_result"
    }
   ],
   "source": [
    "dict_technique_reduction_avg"
   ]
  },
  {
   "cell_type": "markdown",
   "metadata": {},
   "source": [
    "The dictionary above shows the reduction technique, and the factor reduction on video size.\n",
    "\n",
    "The key represents the technique name and the value represents the X times reduction. ex/ ffmpeg_rd-quality_240p-algorithm_lanczos had a 30x reduction"
   ]
  },
  {
   "cell_type": "markdown",
   "metadata": {},
   "source": [
    "# Find the best reconstruction technique"
   ]
  },
  {
   "cell_type": "code",
   "execution_count": 12,
   "metadata": {
    "tags": []
   },
   "outputs": [],
   "source": [
    "# find the original yolo and mp scores\n",
    "df['yolo_score'] = pd.to_numeric(df[\"yolo_score\"])\n",
    "df['mp_score'] = pd.to_numeric(df[\"mp_score\"])\n",
    "\n",
    "df_og = df.loc[df['step'] == 'original']\n",
    "\n",
    "mean_og_yolo = df_og['yolo_score'].mean()\n",
    "mean_og_mp = df_og['mp_score'].mean()\n"
   ]
  },
  {
   "cell_type": "code",
   "execution_count": 13,
   "metadata": {
    "tags": []
   },
   "outputs": [],
   "source": [
    "# find the reconstruction technique that impacted yolo the least\n",
    "\n",
    "dict_technique_recon_yolo_percent = {}\n",
    "dict_technique_recon_mp_percent = {}\n",
    "\n",
    "df_reconstructed = df.loc[df['step'] == 'reconstructed-videos']\n",
    "\n",
    "for i in df_reconstructed['technique'].unique():\n",
    "    df_reconstructed_tech = df.loc[df['technique'] == i]\n",
    "    dict_technique_recon_yolo_percent[i] = (mean_og_yolo - df_reconstructed_tech['yolo_score'].mean(skipna = True))/mean_og_yolo *100\n",
    "    dict_technique_recon_mp_percent[i] = (mean_og_mp-df_reconstructed_tech['mp_score'].mean(skipna = True))/mean_og_mp *100\n",
    "\n",
    "\n"
   ]
  },
  {
   "cell_type": "code",
   "execution_count": 14,
   "metadata": {
    "tags": []
   },
   "outputs": [
    {
     "data": {
      "text/plain": [
       "OrderedDict([('fastsrgan-codec_mp4v-reduction_ffmpeg_rd-quality_1080p-algorithm_lanczos',\n",
       "              -8.173367433771272),\n",
       "             ('smooth_fps-factor4-reduction_fps_bitrate-fps_4x-bitrate_7x',\n",
       "              -6.731613087629423),\n",
       "             ('smooth_fps-factor4-reduction_fps_bitrate-fps_4x-bitrate_5x',\n",
       "              -3.776554306881546),\n",
       "             ('smooth_fps-factor4-reduction_fps_bitrate-fps_4x-bitrate_4x',\n",
       "              -2.0074868382673947),\n",
       "             ('smooth_fps-factor2-reduction_fps_bitrate-fps_2x-bitrate_2x',\n",
       "              -1.7992032947044423),\n",
       "             ('smooth_fps-factor3-reduction_fps_bitrate-fps_3x-bitrate_2x',\n",
       "              -1.7423608232650198),\n",
       "             ('smooth_fps-factor3-reduction_fps_bitrate-fps_3x-bitrate_6x',\n",
       "              -1.6535682160409397),\n",
       "             ('smooth_fps-factor2-reduction_fps_bitrate-fps_2x-bitrate_3x',\n",
       "              -1.6261622927968),\n",
       "             ('smooth_fps-factor3-reduction_fps_bitrate-fps_3x-bitrate_4x',\n",
       "              -1.6095644455924787),\n",
       "             ('smooth_fps-factor2-reduction_fps_bitrate-fps_2x-bitrate_4x',\n",
       "              -1.2119799064362713),\n",
       "             ('smooth_fps-factor5-reduction_fps_bitrate-fps_5x-bitrate_5x',\n",
       "              -1.2079440996035065),\n",
       "             ('smooth_fps-factor4-reduction_fps_bitrate-fps_4x-bitrate_8x',\n",
       "              -0.9977132464451344),\n",
       "             ('opencv_ru-codec_mp4v-resolution_1080X1920-reduction_ffmpeg_rd-quality_720p-algorithm_lanczos',\n",
       "              -0.9015251436276146),\n",
       "             ('opencv_ru-codec_mp4v-resolution_1080X1920-reduction_ffmpeg_rd-quality_480p-algorithm_lanczos',\n",
       "              -0.8658641551018994),\n",
       "             ('smooth_fps-factor2-reduction_fps_bitrate-fps_2x-bitrate_6x',\n",
       "              -0.6755821400095207),\n",
       "             ('smooth_fps-factor3-reduction_fps_bitrate-fps_3x-bitrate_3x',\n",
       "              -0.5729658447314666),\n",
       "             ('smooth_fps-factor5-reduction_fps_bitrate-fps_5x-bitrate_3x',\n",
       "              -0.5303712358321006),\n",
       "             ('smooth_fps-factor5-reduction_fps_bitrate-fps_5x-bitrate_7x',\n",
       "              -0.4996392631508079),\n",
       "             ('opencv_ru-codec_mp4v-resolution_1080X1920-reduction_ffmpeg_rd-quality_1080p-algorithm_lanczos',\n",
       "              -0.20366292270987552),\n",
       "             ('smooth_fps-factor3-reduction_fps_bitrate-fps_3x-bitrate_8x',\n",
       "              -0.07227102662895257),\n",
       "             ('smooth_fps-factor5-reduction_fps_bitrate-fps_5x-bitrate_2x',\n",
       "              -0.00829716099076418),\n",
       "             ('smooth_fps-factor3-reduction_fps_bitrate-fps_3x-bitrate_5x',\n",
       "              0.027000282750514793),\n",
       "             ('smooth_fps-factor5-reduction_fps_bitrate-fps_5x-bitrate_4x',\n",
       "              0.26341885397587106),\n",
       "             ('smooth_fps-factor5-reduction_fps_bitrate-fps_5x-bitrate_6x',\n",
       "              0.2735063755982268),\n",
       "             ('superres-fsrcnn-codec_mp4v-reduction_ffmpeg_rd-quality_480p-algorithm_lanczos',\n",
       "              0.38255795937732373),\n",
       "             ('smooth_fps-factor3-reduction_fps_bitrate-fps_3x-bitrate_9x',\n",
       "              0.48375002296402925),\n",
       "             ('smooth_fps-factor4-reduction_fps_bitrate-fps_4x-bitrate_3x',\n",
       "              0.6526005610138621),\n",
       "             ('smooth_fps-factor2-reduction_fps_bitrate-fps_2x-bitrate_5x',\n",
       "              0.7523504472598846),\n",
       "             ('smooth_fps-factor4-reduction_fps_bitrate-fps_4x-bitrate_6x',\n",
       "              1.0376057230366107),\n",
       "             ('fastsrgan-codec_mp4v-reduction_ffmpeg_rd-quality_480p-algorithm_lanczos',\n",
       "              1.1004875798520841),\n",
       "             ('smooth_fps-factor2-reduction_fps_bitrate-fps_2x-bitrate_7x',\n",
       "              1.117134628732918),\n",
       "             ('smooth_fps-factor5-reduction_fps_bitrate-fps_5x-bitrate_8x',\n",
       "              1.4064125815799458),\n",
       "             ('smooth_fps-factor2', 1.4402569820043798),\n",
       "             ('superres-espcn-codec_mp4v-reduction_ffmpeg_rd-quality_480p-algorithm_lanczos',\n",
       "              1.4899516852235406),\n",
       "             ('smooth_fps-factor5-reduction_fps_bitrate-fps_5x-bitrate_10x',\n",
       "              1.7780072142218555),\n",
       "             ('smooth_fps-factor3-reduction_fps_bitrate-fps_3x-bitrate_7x',\n",
       "              1.8945818003456243),\n",
       "             ('smooth_fps-factor5-reduction_fps_bitrate-fps_5x-bitrate_9x',\n",
       "              2.401004199377754),\n",
       "             ('fastsrgan-codec_mp4v-reduction_ffmpeg_rd-quality_720p-algorithm_lanczos',\n",
       "              2.4400471234489873),\n",
       "             ('superres-fsrcnn-codec_mp4v-reduction_ffmpeg_rd-quality_240p-algorithm_lanczos',\n",
       "              2.9741630943924084),\n",
       "             ('superres-lapsrn-codec_mp4v-reduction_ffmpeg_rd-quality_240p-algorithm_lanczos',\n",
       "              2.9741630943924267),\n",
       "             ('superres-fsrcnn-codec_mp4v-reduction_ffmpeg_rd-quality_360p-algorithm_lanczos',\n",
       "              3.2079528873415115),\n",
       "             ('opencv_ru-codec_mp4v-resolution_1080X1920-reduction_ffmpeg_rd-quality_360p-algorithm_lanczos',\n",
       "              3.212550295577257),\n",
       "             ('smooth_fps-factor2-reduction_fps_bitrate-fps_2x-bitrate_8x',\n",
       "              3.3371471173604603),\n",
       "             ('superres-fsrcnn-codec_mp4v-reduction_ffmpeg_rd-quality_720p-algorithm_lanczos',\n",
       "              3.4732422723523593),\n",
       "             ('linear_interpolation-reduction_keyframe_extraction-keyframes_30',\n",
       "              3.507279161449331),\n",
       "             ('fastsrgan-codec_mp4v-reduction_ffmpeg_rd-quality_240p-algorithm_lanczos',\n",
       "              3.8606854758864273),\n",
       "             ('smooth_fps-factor2-reduction_fps_bitrate-fps_2x-bitrate_9x',\n",
       "              4.033965478748111),\n",
       "             ('opencv_ru-codec_mp4v-resolution_1080X1920-reduction_ffmpeg_rd-quality_240p-algorithm_lanczos',\n",
       "              4.084883758454449),\n",
       "             ('smooth_fps-factor4-reduction_fps_bitrate-fps_4x-bitrate_9x',\n",
       "              4.363367477404309),\n",
       "             ('superres-espcn-codec_mp4v-reduction_ffmpeg_rd-quality_720p-algorithm_lanczos',\n",
       "              4.445714939293112),\n",
       "             ('smooth_fps-factor2-reduction_fps_bitrate-fps_2x-bitrate_10x',\n",
       "              4.469461489770557),\n",
       "             ('superres-espcn-codec_mp4v-reduction_ffmpeg_rd-quality_240p-algorithm_lanczos',\n",
       "              4.690177018842761),\n",
       "             ('superres-espcn-codec_mp4v-reduction_ffmpeg_rd-quality_360p-algorithm_lanczos',\n",
       "              4.711677154799561),\n",
       "             ('smooth_fps-factor4-reduction_fps_bitrate-fps_4x-bitrate_10x',\n",
       "              5.12002597493919),\n",
       "             ('smooth_fps-factor4-reduction_fps_bitrate-fps_4x-bitrate_2x',\n",
       "              5.159973394655062),\n",
       "             ('fastsrgan-codec_mp4v-reduction_ffmpeg_rd-quality_360p-algorithm_lanczos',\n",
       "              5.1634513624071845),\n",
       "             ('smooth_fps-factor3-reduction_fps_bitrate-fps_3x-bitrate_10x',\n",
       "              6.73543912526927),\n",
       "             ('background_addition-reduction_background_subtractor',\n",
       "              10.2127588143022)])"
      ]
     },
     "execution_count": 14,
     "metadata": {},
     "output_type": "execute_result"
    }
   ],
   "source": [
    "dict_technique_recon_yolo_percent = OrderedDict(sorted(dict_technique_recon_yolo_percent.items(), key=lambda x: x[1]))\n",
    "\n",
    "dict_technique_recon_yolo_percent"
   ]
  },
  {
   "cell_type": "code",
   "execution_count": 15,
   "metadata": {
    "tags": []
   },
   "outputs": [
    {
     "data": {
      "text/plain": [
       "OrderedDict([('opencv_ru-codec_mp4v-resolution_1080X1920-reduction_ffmpeg_rd-quality_1080p-algorithm_lanczos',\n",
       "              1.0391391828600802),\n",
       "             ('smooth_fps-factor2-reduction_fps_bitrate-fps_2x-bitrate_2x',\n",
       "              2.051496220188118),\n",
       "             ('smooth_fps-factor3-reduction_fps_bitrate-fps_3x-bitrate_2x',\n",
       "              2.242062666821549),\n",
       "             ('smooth_fps-factor5-reduction_fps_bitrate-fps_5x-bitrate_2x',\n",
       "              2.250074967096491),\n",
       "             ('opencv_ru-codec_mp4v-resolution_1080X1920-reduction_ffmpeg_rd-quality_480p-algorithm_lanczos',\n",
       "              2.6113746403888185),\n",
       "             ('smooth_fps-factor4-reduction_fps_bitrate-fps_4x-bitrate_2x',\n",
       "              2.7302755831867147),\n",
       "             ('smooth_fps-factor3-reduction_fps_bitrate-fps_3x-bitrate_3x',\n",
       "              2.7315321267193813),\n",
       "             ('smooth_fps-factor5-reduction_fps_bitrate-fps_5x-bitrate_4x',\n",
       "              2.844143405696179),\n",
       "             ('opencv_ru-codec_mp4v-resolution_1080X1920-reduction_ffmpeg_rd-quality_720p-algorithm_lanczos',\n",
       "              2.857197847282938),\n",
       "             ('smooth_fps-factor2-reduction_fps_bitrate-fps_2x-bitrate_3x',\n",
       "              2.85978038153107),\n",
       "             ('smooth_fps-factor4-reduction_fps_bitrate-fps_4x-bitrate_3x',\n",
       "              2.8655437042348186),\n",
       "             ('superres-fsrcnn-codec_mp4v-reduction_ffmpeg_rd-quality_720p-algorithm_lanczos',\n",
       "              2.882069033357846),\n",
       "             ('superres-espcn-codec_mp4v-reduction_ffmpeg_rd-quality_720p-algorithm_lanczos',\n",
       "              3.0343590219077403),\n",
       "             ('smooth_fps-factor5-reduction_fps_bitrate-fps_5x-bitrate_3x',\n",
       "              3.1321322500112854),\n",
       "             ('smooth_fps-factor2-reduction_fps_bitrate-fps_2x-bitrate_5x',\n",
       "              3.395860187339107),\n",
       "             ('smooth_fps-factor2-reduction_fps_bitrate-fps_2x-bitrate_4x',\n",
       "              3.4160126501750647),\n",
       "             ('smooth_fps-factor5-reduction_fps_bitrate-fps_5x-bitrate_5x',\n",
       "              3.441170379100558),\n",
       "             ('superres-espcn-codec_mp4v-reduction_ffmpeg_rd-quality_480p-algorithm_lanczos',\n",
       "              3.4798918422679166),\n",
       "             ('smooth_fps-factor3-reduction_fps_bitrate-fps_3x-bitrate_4x',\n",
       "              3.5470397766359296),\n",
       "             ('superres-fsrcnn-codec_mp4v-reduction_ffmpeg_rd-quality_480p-algorithm_lanczos',\n",
       "              3.8918349614380037),\n",
       "             ('smooth_fps-factor4-reduction_fps_bitrate-fps_4x-bitrate_4x',\n",
       "              3.91942016245835),\n",
       "             ('smooth_fps-factor3-reduction_fps_bitrate-fps_3x-bitrate_7x',\n",
       "              3.989756623739334),\n",
       "             ('smooth_fps-factor5-reduction_fps_bitrate-fps_5x-bitrate_6x',\n",
       "              4.018045509464961),\n",
       "             ('smooth_fps-factor4-reduction_fps_bitrate-fps_4x-bitrate_5x',\n",
       "              4.045397714492034),\n",
       "             ('smooth_fps-factor4-reduction_fps_bitrate-fps_4x-bitrate_6x',\n",
       "              4.095702877412873),\n",
       "             ('smooth_fps-factor4-reduction_fps_bitrate-fps_4x-bitrate_7x',\n",
       "              4.132819368205244),\n",
       "             ('smooth_fps-factor3-reduction_fps_bitrate-fps_3x-bitrate_5x',\n",
       "              4.163652188938441),\n",
       "             ('fastsrgan-codec_mp4v-reduction_ffmpeg_rd-quality_720p-algorithm_lanczos',\n",
       "              4.236717994741197),\n",
       "             ('linear_interpolation-reduction_keyframe_extraction-keyframes_30',\n",
       "              4.2588297727908575),\n",
       "             ('opencv_ru-codec_mp4v-resolution_1080X1920-reduction_ffmpeg_rd-quality_240p-algorithm_lanczos',\n",
       "              4.318290951057737),\n",
       "             ('smooth_fps-factor2-reduction_fps_bitrate-fps_2x-bitrate_7x',\n",
       "              4.353200475683475),\n",
       "             ('superres-espcn-codec_mp4v-reduction_ffmpeg_rd-quality_360p-algorithm_lanczos',\n",
       "              4.560927817359913),\n",
       "             ('fastsrgan-codec_mp4v-reduction_ffmpeg_rd-quality_480p-algorithm_lanczos',\n",
       "              4.71726919642291),\n",
       "             ('opencv_ru-codec_mp4v-resolution_1080X1920-reduction_ffmpeg_rd-quality_360p-algorithm_lanczos',\n",
       "              4.799046867357176),\n",
       "             ('smooth_fps-factor3-reduction_fps_bitrate-fps_3x-bitrate_8x',\n",
       "              4.909227061876258),\n",
       "             ('smooth_fps-factor5-reduction_fps_bitrate-fps_5x-bitrate_7x',\n",
       "              4.940679366639253),\n",
       "             ('fastsrgan-codec_mp4v-reduction_ffmpeg_rd-quality_240p-algorithm_lanczos',\n",
       "              4.969073196742833),\n",
       "             ('smooth_fps-factor2-reduction_fps_bitrate-fps_2x-bitrate_6x',\n",
       "              5.009373684362168),\n",
       "             ('superres-lapsrn-codec_mp4v-reduction_ffmpeg_rd-quality_240p-algorithm_lanczos',\n",
       "              5.055639096583833),\n",
       "             ('superres-fsrcnn-codec_mp4v-reduction_ffmpeg_rd-quality_240p-algorithm_lanczos',\n",
       "              5.05563909658385),\n",
       "             ('smooth_fps-factor3-reduction_fps_bitrate-fps_3x-bitrate_9x',\n",
       "              5.087307614395481),\n",
       "             ('smooth_fps-factor2', 5.190837831716482),\n",
       "             ('smooth_fps-factor5-reduction_fps_bitrate-fps_5x-bitrate_8x',\n",
       "              5.2246846269057965),\n",
       "             ('superres-fsrcnn-codec_mp4v-reduction_ffmpeg_rd-quality_360p-algorithm_lanczos',\n",
       "              5.231045343389592),\n",
       "             ('smooth_fps-factor5-reduction_fps_bitrate-fps_5x-bitrate_9x',\n",
       "              5.440211127615564),\n",
       "             ('smooth_fps-factor2-reduction_fps_bitrate-fps_2x-bitrate_9x',\n",
       "              5.472558124378738),\n",
       "             ('smooth_fps-factor3-reduction_fps_bitrate-fps_3x-bitrate_6x',\n",
       "              5.559209612833498),\n",
       "             ('smooth_fps-factor4-reduction_fps_bitrate-fps_4x-bitrate_10x',\n",
       "              5.568790903684338),\n",
       "             ('fastsrgan-codec_mp4v-reduction_ffmpeg_rd-quality_360p-algorithm_lanczos',\n",
       "              5.600780928573874),\n",
       "             ('smooth_fps-factor2-reduction_fps_bitrate-fps_2x-bitrate_8x',\n",
       "              5.706236137474878),\n",
       "             ('fastsrgan-codec_mp4v-reduction_ffmpeg_rd-quality_1080p-algorithm_lanczos',\n",
       "              5.905181769278828),\n",
       "             ('superres-espcn-codec_mp4v-reduction_ffmpeg_rd-quality_240p-algorithm_lanczos',\n",
       "              6.204345684312091),\n",
       "             ('smooth_fps-factor4-reduction_fps_bitrate-fps_4x-bitrate_9x',\n",
       "              6.396344436743956),\n",
       "             ('smooth_fps-factor5-reduction_fps_bitrate-fps_5x-bitrate_10x',\n",
       "              6.404951977906735),\n",
       "             ('smooth_fps-factor4-reduction_fps_bitrate-fps_4x-bitrate_8x',\n",
       "              6.455678360503689),\n",
       "             ('smooth_fps-factor2-reduction_fps_bitrate-fps_2x-bitrate_10x',\n",
       "              6.668510958896724),\n",
       "             ('smooth_fps-factor3-reduction_fps_bitrate-fps_3x-bitrate_10x',\n",
       "              6.799250057164934),\n",
       "             ('background_addition-reduction_background_subtractor',\n",
       "              17.39017660816687)])"
      ]
     },
     "execution_count": 15,
     "metadata": {},
     "output_type": "execute_result"
    }
   ],
   "source": [
    "dict_technique_recon_mp_percent = OrderedDict(sorted(dict_technique_recon_mp_percent.items(), key=lambda x: x[1]))\n",
    "dict_technique_recon_mp_percent"
   ]
  },
  {
   "cell_type": "markdown",
   "metadata": {},
   "source": [
    "Here the mediapipe and yolo results are represented by the keys as technique for reconstruciton, and the value as the % decrease in average confidence score. "
   ]
  },
  {
   "cell_type": "code",
   "execution_count": null,
   "metadata": {},
   "outputs": [],
   "source": []
  }
 ],
 "metadata": {
  "availableInstances": [
   {
    "_defaultOrder": 0,
    "_isFastLaunch": true,
    "category": "General purpose",
    "gpuNum": 0,
    "hideHardwareSpecs": false,
    "memoryGiB": 4,
    "name": "ml.t3.medium",
    "vcpuNum": 2
   },
   {
    "_defaultOrder": 1,
    "_isFastLaunch": false,
    "category": "General purpose",
    "gpuNum": 0,
    "hideHardwareSpecs": false,
    "memoryGiB": 8,
    "name": "ml.t3.large",
    "vcpuNum": 2
   },
   {
    "_defaultOrder": 2,
    "_isFastLaunch": false,
    "category": "General purpose",
    "gpuNum": 0,
    "hideHardwareSpecs": false,
    "memoryGiB": 16,
    "name": "ml.t3.xlarge",
    "vcpuNum": 4
   },
   {
    "_defaultOrder": 3,
    "_isFastLaunch": false,
    "category": "General purpose",
    "gpuNum": 0,
    "hideHardwareSpecs": false,
    "memoryGiB": 32,
    "name": "ml.t3.2xlarge",
    "vcpuNum": 8
   },
   {
    "_defaultOrder": 4,
    "_isFastLaunch": true,
    "category": "General purpose",
    "gpuNum": 0,
    "hideHardwareSpecs": false,
    "memoryGiB": 8,
    "name": "ml.m5.large",
    "vcpuNum": 2
   },
   {
    "_defaultOrder": 5,
    "_isFastLaunch": false,
    "category": "General purpose",
    "gpuNum": 0,
    "hideHardwareSpecs": false,
    "memoryGiB": 16,
    "name": "ml.m5.xlarge",
    "vcpuNum": 4
   },
   {
    "_defaultOrder": 6,
    "_isFastLaunch": false,
    "category": "General purpose",
    "gpuNum": 0,
    "hideHardwareSpecs": false,
    "memoryGiB": 32,
    "name": "ml.m5.2xlarge",
    "vcpuNum": 8
   },
   {
    "_defaultOrder": 7,
    "_isFastLaunch": false,
    "category": "General purpose",
    "gpuNum": 0,
    "hideHardwareSpecs": false,
    "memoryGiB": 64,
    "name": "ml.m5.4xlarge",
    "vcpuNum": 16
   },
   {
    "_defaultOrder": 8,
    "_isFastLaunch": false,
    "category": "General purpose",
    "gpuNum": 0,
    "hideHardwareSpecs": false,
    "memoryGiB": 128,
    "name": "ml.m5.8xlarge",
    "vcpuNum": 32
   },
   {
    "_defaultOrder": 9,
    "_isFastLaunch": false,
    "category": "General purpose",
    "gpuNum": 0,
    "hideHardwareSpecs": false,
    "memoryGiB": 192,
    "name": "ml.m5.12xlarge",
    "vcpuNum": 48
   },
   {
    "_defaultOrder": 10,
    "_isFastLaunch": false,
    "category": "General purpose",
    "gpuNum": 0,
    "hideHardwareSpecs": false,
    "memoryGiB": 256,
    "name": "ml.m5.16xlarge",
    "vcpuNum": 64
   },
   {
    "_defaultOrder": 11,
    "_isFastLaunch": false,
    "category": "General purpose",
    "gpuNum": 0,
    "hideHardwareSpecs": false,
    "memoryGiB": 384,
    "name": "ml.m5.24xlarge",
    "vcpuNum": 96
   },
   {
    "_defaultOrder": 12,
    "_isFastLaunch": false,
    "category": "General purpose",
    "gpuNum": 0,
    "hideHardwareSpecs": false,
    "memoryGiB": 8,
    "name": "ml.m5d.large",
    "vcpuNum": 2
   },
   {
    "_defaultOrder": 13,
    "_isFastLaunch": false,
    "category": "General purpose",
    "gpuNum": 0,
    "hideHardwareSpecs": false,
    "memoryGiB": 16,
    "name": "ml.m5d.xlarge",
    "vcpuNum": 4
   },
   {
    "_defaultOrder": 14,
    "_isFastLaunch": false,
    "category": "General purpose",
    "gpuNum": 0,
    "hideHardwareSpecs": false,
    "memoryGiB": 32,
    "name": "ml.m5d.2xlarge",
    "vcpuNum": 8
   },
   {
    "_defaultOrder": 15,
    "_isFastLaunch": false,
    "category": "General purpose",
    "gpuNum": 0,
    "hideHardwareSpecs": false,
    "memoryGiB": 64,
    "name": "ml.m5d.4xlarge",
    "vcpuNum": 16
   },
   {
    "_defaultOrder": 16,
    "_isFastLaunch": false,
    "category": "General purpose",
    "gpuNum": 0,
    "hideHardwareSpecs": false,
    "memoryGiB": 128,
    "name": "ml.m5d.8xlarge",
    "vcpuNum": 32
   },
   {
    "_defaultOrder": 17,
    "_isFastLaunch": false,
    "category": "General purpose",
    "gpuNum": 0,
    "hideHardwareSpecs": false,
    "memoryGiB": 192,
    "name": "ml.m5d.12xlarge",
    "vcpuNum": 48
   },
   {
    "_defaultOrder": 18,
    "_isFastLaunch": false,
    "category": "General purpose",
    "gpuNum": 0,
    "hideHardwareSpecs": false,
    "memoryGiB": 256,
    "name": "ml.m5d.16xlarge",
    "vcpuNum": 64
   },
   {
    "_defaultOrder": 19,
    "_isFastLaunch": false,
    "category": "General purpose",
    "gpuNum": 0,
    "hideHardwareSpecs": false,
    "memoryGiB": 384,
    "name": "ml.m5d.24xlarge",
    "vcpuNum": 96
   },
   {
    "_defaultOrder": 20,
    "_isFastLaunch": false,
    "category": "General purpose",
    "gpuNum": 0,
    "hideHardwareSpecs": true,
    "memoryGiB": 0,
    "name": "ml.geospatial.interactive",
    "supportedImageNames": [
     "sagemaker-geospatial-v1-0"
    ],
    "vcpuNum": 0
   },
   {
    "_defaultOrder": 21,
    "_isFastLaunch": true,
    "category": "Compute optimized",
    "gpuNum": 0,
    "hideHardwareSpecs": false,
    "memoryGiB": 4,
    "name": "ml.c5.large",
    "vcpuNum": 2
   },
   {
    "_defaultOrder": 22,
    "_isFastLaunch": false,
    "category": "Compute optimized",
    "gpuNum": 0,
    "hideHardwareSpecs": false,
    "memoryGiB": 8,
    "name": "ml.c5.xlarge",
    "vcpuNum": 4
   },
   {
    "_defaultOrder": 23,
    "_isFastLaunch": false,
    "category": "Compute optimized",
    "gpuNum": 0,
    "hideHardwareSpecs": false,
    "memoryGiB": 16,
    "name": "ml.c5.2xlarge",
    "vcpuNum": 8
   },
   {
    "_defaultOrder": 24,
    "_isFastLaunch": false,
    "category": "Compute optimized",
    "gpuNum": 0,
    "hideHardwareSpecs": false,
    "memoryGiB": 32,
    "name": "ml.c5.4xlarge",
    "vcpuNum": 16
   },
   {
    "_defaultOrder": 25,
    "_isFastLaunch": false,
    "category": "Compute optimized",
    "gpuNum": 0,
    "hideHardwareSpecs": false,
    "memoryGiB": 72,
    "name": "ml.c5.9xlarge",
    "vcpuNum": 36
   },
   {
    "_defaultOrder": 26,
    "_isFastLaunch": false,
    "category": "Compute optimized",
    "gpuNum": 0,
    "hideHardwareSpecs": false,
    "memoryGiB": 96,
    "name": "ml.c5.12xlarge",
    "vcpuNum": 48
   },
   {
    "_defaultOrder": 27,
    "_isFastLaunch": false,
    "category": "Compute optimized",
    "gpuNum": 0,
    "hideHardwareSpecs": false,
    "memoryGiB": 144,
    "name": "ml.c5.18xlarge",
    "vcpuNum": 72
   },
   {
    "_defaultOrder": 28,
    "_isFastLaunch": false,
    "category": "Compute optimized",
    "gpuNum": 0,
    "hideHardwareSpecs": false,
    "memoryGiB": 192,
    "name": "ml.c5.24xlarge",
    "vcpuNum": 96
   },
   {
    "_defaultOrder": 29,
    "_isFastLaunch": true,
    "category": "Accelerated computing",
    "gpuNum": 1,
    "hideHardwareSpecs": false,
    "memoryGiB": 16,
    "name": "ml.g4dn.xlarge",
    "vcpuNum": 4
   },
   {
    "_defaultOrder": 30,
    "_isFastLaunch": false,
    "category": "Accelerated computing",
    "gpuNum": 1,
    "hideHardwareSpecs": false,
    "memoryGiB": 32,
    "name": "ml.g4dn.2xlarge",
    "vcpuNum": 8
   },
   {
    "_defaultOrder": 31,
    "_isFastLaunch": false,
    "category": "Accelerated computing",
    "gpuNum": 1,
    "hideHardwareSpecs": false,
    "memoryGiB": 64,
    "name": "ml.g4dn.4xlarge",
    "vcpuNum": 16
   },
   {
    "_defaultOrder": 32,
    "_isFastLaunch": false,
    "category": "Accelerated computing",
    "gpuNum": 1,
    "hideHardwareSpecs": false,
    "memoryGiB": 128,
    "name": "ml.g4dn.8xlarge",
    "vcpuNum": 32
   },
   {
    "_defaultOrder": 33,
    "_isFastLaunch": false,
    "category": "Accelerated computing",
    "gpuNum": 4,
    "hideHardwareSpecs": false,
    "memoryGiB": 192,
    "name": "ml.g4dn.12xlarge",
    "vcpuNum": 48
   },
   {
    "_defaultOrder": 34,
    "_isFastLaunch": false,
    "category": "Accelerated computing",
    "gpuNum": 1,
    "hideHardwareSpecs": false,
    "memoryGiB": 256,
    "name": "ml.g4dn.16xlarge",
    "vcpuNum": 64
   },
   {
    "_defaultOrder": 35,
    "_isFastLaunch": false,
    "category": "Accelerated computing",
    "gpuNum": 1,
    "hideHardwareSpecs": false,
    "memoryGiB": 61,
    "name": "ml.p3.2xlarge",
    "vcpuNum": 8
   },
   {
    "_defaultOrder": 36,
    "_isFastLaunch": false,
    "category": "Accelerated computing",
    "gpuNum": 4,
    "hideHardwareSpecs": false,
    "memoryGiB": 244,
    "name": "ml.p3.8xlarge",
    "vcpuNum": 32
   },
   {
    "_defaultOrder": 37,
    "_isFastLaunch": false,
    "category": "Accelerated computing",
    "gpuNum": 8,
    "hideHardwareSpecs": false,
    "memoryGiB": 488,
    "name": "ml.p3.16xlarge",
    "vcpuNum": 64
   },
   {
    "_defaultOrder": 38,
    "_isFastLaunch": false,
    "category": "Accelerated computing",
    "gpuNum": 8,
    "hideHardwareSpecs": false,
    "memoryGiB": 768,
    "name": "ml.p3dn.24xlarge",
    "vcpuNum": 96
   },
   {
    "_defaultOrder": 39,
    "_isFastLaunch": false,
    "category": "Memory Optimized",
    "gpuNum": 0,
    "hideHardwareSpecs": false,
    "memoryGiB": 16,
    "name": "ml.r5.large",
    "vcpuNum": 2
   },
   {
    "_defaultOrder": 40,
    "_isFastLaunch": false,
    "category": "Memory Optimized",
    "gpuNum": 0,
    "hideHardwareSpecs": false,
    "memoryGiB": 32,
    "name": "ml.r5.xlarge",
    "vcpuNum": 4
   },
   {
    "_defaultOrder": 41,
    "_isFastLaunch": false,
    "category": "Memory Optimized",
    "gpuNum": 0,
    "hideHardwareSpecs": false,
    "memoryGiB": 64,
    "name": "ml.r5.2xlarge",
    "vcpuNum": 8
   },
   {
    "_defaultOrder": 42,
    "_isFastLaunch": false,
    "category": "Memory Optimized",
    "gpuNum": 0,
    "hideHardwareSpecs": false,
    "memoryGiB": 128,
    "name": "ml.r5.4xlarge",
    "vcpuNum": 16
   },
   {
    "_defaultOrder": 43,
    "_isFastLaunch": false,
    "category": "Memory Optimized",
    "gpuNum": 0,
    "hideHardwareSpecs": false,
    "memoryGiB": 256,
    "name": "ml.r5.8xlarge",
    "vcpuNum": 32
   },
   {
    "_defaultOrder": 44,
    "_isFastLaunch": false,
    "category": "Memory Optimized",
    "gpuNum": 0,
    "hideHardwareSpecs": false,
    "memoryGiB": 384,
    "name": "ml.r5.12xlarge",
    "vcpuNum": 48
   },
   {
    "_defaultOrder": 45,
    "_isFastLaunch": false,
    "category": "Memory Optimized",
    "gpuNum": 0,
    "hideHardwareSpecs": false,
    "memoryGiB": 512,
    "name": "ml.r5.16xlarge",
    "vcpuNum": 64
   },
   {
    "_defaultOrder": 46,
    "_isFastLaunch": false,
    "category": "Memory Optimized",
    "gpuNum": 0,
    "hideHardwareSpecs": false,
    "memoryGiB": 768,
    "name": "ml.r5.24xlarge",
    "vcpuNum": 96
   },
   {
    "_defaultOrder": 47,
    "_isFastLaunch": false,
    "category": "Accelerated computing",
    "gpuNum": 1,
    "hideHardwareSpecs": false,
    "memoryGiB": 16,
    "name": "ml.g5.xlarge",
    "vcpuNum": 4
   },
   {
    "_defaultOrder": 48,
    "_isFastLaunch": false,
    "category": "Accelerated computing",
    "gpuNum": 1,
    "hideHardwareSpecs": false,
    "memoryGiB": 32,
    "name": "ml.g5.2xlarge",
    "vcpuNum": 8
   },
   {
    "_defaultOrder": 49,
    "_isFastLaunch": false,
    "category": "Accelerated computing",
    "gpuNum": 1,
    "hideHardwareSpecs": false,
    "memoryGiB": 64,
    "name": "ml.g5.4xlarge",
    "vcpuNum": 16
   },
   {
    "_defaultOrder": 50,
    "_isFastLaunch": false,
    "category": "Accelerated computing",
    "gpuNum": 1,
    "hideHardwareSpecs": false,
    "memoryGiB": 128,
    "name": "ml.g5.8xlarge",
    "vcpuNum": 32
   },
   {
    "_defaultOrder": 51,
    "_isFastLaunch": false,
    "category": "Accelerated computing",
    "gpuNum": 1,
    "hideHardwareSpecs": false,
    "memoryGiB": 256,
    "name": "ml.g5.16xlarge",
    "vcpuNum": 64
   },
   {
    "_defaultOrder": 52,
    "_isFastLaunch": false,
    "category": "Accelerated computing",
    "gpuNum": 4,
    "hideHardwareSpecs": false,
    "memoryGiB": 192,
    "name": "ml.g5.12xlarge",
    "vcpuNum": 48
   },
   {
    "_defaultOrder": 53,
    "_isFastLaunch": false,
    "category": "Accelerated computing",
    "gpuNum": 4,
    "hideHardwareSpecs": false,
    "memoryGiB": 384,
    "name": "ml.g5.24xlarge",
    "vcpuNum": 96
   },
   {
    "_defaultOrder": 54,
    "_isFastLaunch": false,
    "category": "Accelerated computing",
    "gpuNum": 8,
    "hideHardwareSpecs": false,
    "memoryGiB": 768,
    "name": "ml.g5.48xlarge",
    "vcpuNum": 192
   },
   {
    "_defaultOrder": 55,
    "_isFastLaunch": false,
    "category": "Accelerated computing",
    "gpuNum": 8,
    "hideHardwareSpecs": false,
    "memoryGiB": 1152,
    "name": "ml.p4d.24xlarge",
    "vcpuNum": 96
   },
   {
    "_defaultOrder": 56,
    "_isFastLaunch": false,
    "category": "Accelerated computing",
    "gpuNum": 8,
    "hideHardwareSpecs": false,
    "memoryGiB": 1152,
    "name": "ml.p4de.24xlarge",
    "vcpuNum": 96
   }
  ],
  "instance_type": "ml.t3.medium",
  "kernelspec": {
   "display_name": "Python 3 (Data Science 3.0)",
   "language": "python",
   "name": "python3__SAGEMAKER_INTERNAL__arn:aws:sagemaker:us-east-1:081325390199:image/sagemaker-data-science-310-v1"
  },
  "language_info": {
   "codemirror_mode": {
    "name": "ipython",
    "version": 3
   },
   "file_extension": ".py",
   "mimetype": "text/x-python",
   "name": "python",
   "nbconvert_exporter": "python",
   "pygments_lexer": "ipython3",
   "version": "3.10.6"
  }
 },
 "nbformat": 4,
 "nbformat_minor": 4
}
